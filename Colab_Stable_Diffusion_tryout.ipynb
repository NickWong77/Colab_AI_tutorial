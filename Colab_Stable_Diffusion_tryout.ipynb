{
  "nbformat": 4,
  "nbformat_minor": 0,
  "metadata": {
    "colab": {
      "private_outputs": true,
      "provenance": [],
      "gpuType": "T4",
      "include_colab_link": true
    },
    "kernelspec": {
      "name": "python3",
      "display_name": "Python 3"
    },
    "language_info": {
      "name": "python"
    },
    "accelerator": "GPU"
  },
  "cells": [
    {
      "cell_type": "markdown",
      "metadata": {
        "id": "view-in-github",
        "colab_type": "text"
      },
      "source": [
        "<a href=\"https://colab.research.google.com/github/alecinvan/Colab_AI_tutorial/blob/main/Colab_Stable_Diffusion_tryout.ipynb\" target=\"_parent\"><img src=\"https://colab.research.google.com/assets/colab-badge.svg\" alt=\"Open In Colab\"/></a>"
      ]
    },
    {
      "cell_type": "markdown",
      "source": [
        "#<font color=\"blue\" size=\"8\">使用Stable Diffusion构建一个艺术创作空间\n"
      ],
      "metadata": {
        "id": "h-XE0bowtDjf"
      }
    },
    {
      "cell_type": "markdown",
      "source": [
        "\n",
        "#<font color=\"darkred\" size=\"5\">这里我们使用huggingface上的开源stable-diffusion模型：\n",
        "https://huggingface.co/CompVis/stable-diffusion-v1-4\n",
        "\n",
        "Endpoints: API_URL = \"https://api-inference.huggingface.co/models/CompVis/stable-diffusion-v1-4\"\n"
      ],
      "metadata": {
        "id": "8pkEI3oVt_QD"
      }
    },
    {
      "cell_type": "code",
      "execution_count": null,
      "metadata": {
        "id": "QuFz5uGi-h6G"
      },
      "outputs": [],
      "source": [
        "%pip install --quiet --upgrade diffusers transformers scipy mediapy accelerate"
      ]
    },
    {
      "cell_type": "code",
      "source": [
        "!pip install gradio -q"
      ],
      "metadata": {
        "id": "b_y99KyX-azk"
      },
      "execution_count": null,
      "outputs": []
    },
    {
      "cell_type": "code",
      "source": [
        "!huggingface-cli login"
      ],
      "metadata": {
        "id": "GR4vF2bw-sHR"
      },
      "execution_count": null,
      "outputs": []
    },
    {
      "cell_type": "markdown",
      "source": [
        "Now we set up our model and pipeline. IF you want to remove the NSFW safety checker, change \"remove_safety\" to \"True\"."
      ],
      "metadata": {
        "id": "JAA8E3zXuKm1"
      }
    },
    {
      "cell_type": "code",
      "source": [
        "from diffusers import PNDMScheduler, DDIMScheduler, LMSDiscreteScheduler\n",
        "\n",
        "scheduler = PNDMScheduler(beta_start=0.00085, beta_end=0.012, beta_schedule=\"scaled_linear\", skip_prk_steps=True)"
      ],
      "metadata": {
        "id": "vF9Q0xKX8gLR"
      },
      "execution_count": null,
      "outputs": []
    },
    {
      "cell_type": "code",
      "source": [
        "import mediapy as media\n",
        "import torch\n",
        "from torch import autocast\n",
        "from diffusers import StableDiffusionPipeline\n",
        "\n",
        "model_id = \"CompVis/stable-diffusion-v1-4\"\n",
        "device = \"cuda\"\n",
        "remove_safety = False\n",
        "\n",
        "\n",
        "pipe = StableDiffusionPipeline.from_pretrained(model_id, scheduler=scheduler, torch_dtype=torch.float16, revision=\"fp16\", use_auth_token=True)\n",
        "if remove_safety:\n",
        "  pipe.safety_checker = lambda images, clip_input: (images, False)\n",
        "pipe = pipe.to(device)\n",
        "\n"
      ],
      "metadata": {
        "id": "bG2hkmSEvByV"
      },
      "execution_count": null,
      "outputs": []
    },
    {
      "cell_type": "markdown",
      "source": [
        "Here is where you actually make images. Change the \"prompt\" to whatever you want to try and then change \"num_images\" if you want more than one image generated. You can re-run this cell without having to re-run everything before it, just FYI."
      ],
      "metadata": {
        "id": "IoTE794luOXD"
      }
    },
    {
      "cell_type": "code",
      "source": [
        "prompt = \"photo of Arbian Horses\"\n",
        "num_images = 2\n",
        "\n",
        "prompts = [ prompt ] * num_images\n",
        "with autocast(\"cuda\"):\n",
        "    images = pipe(prompts, guidance_scale=7.5, num_inference_steps=50).images\n",
        "\n",
        "media.show_images(images)\n",
        "images[0].save(\"output.jpg\")"
      ],
      "metadata": {
        "id": "AUc4QJfE-uR9"
      },
      "execution_count": null,
      "outputs": []
    },
    {
      "cell_type": "code",
      "source": [
        "import gradio as gr\n",
        "import torch\n",
        "from diffusers import StableDiffusionPipeline\n",
        "\n",
        "def generate_image_with_diffusion(prompt):\n",
        "    model_id = \"CompVis/stable-diffusion-v1-4\"\n",
        "    device = \"cuda\"  # Change to \"cpu\" if you want to run on CPU\n",
        "    remove_safety = False\n",
        "\n",
        "    pipe = StableDiffusionPipeline.from_pretrained(model_id, torch_dtype=torch.float16, revision=\"fp16\", use_auth_token=True)\n",
        "\n",
        "    if remove_safety:\n",
        "        pipe.safety_checker = lambda images, clip_input: (images, False)\n",
        "    pipe = pipe.to(device)\n",
        "\n",
        "    with torch.autocast(\"cuda\"):\n",
        "        images = pipe([prompt], guidance_scale=7.5, num_inference_steps=50).images\n",
        "\n",
        "    return images[0]\n",
        "\n",
        "# Gradio界面配置\n",
        "inputs = gr.inputs.Textbox(label=\"输入文本\")\n",
        "outputs = gr.outputs.Image(label=\"生成的图像\", type=\"pil\")\n",
        "\n",
        "\n",
        "# 创建Gradio界面\n",
        "gr.Interface(\n",
        "    fn=generate_image_with_diffusion,\n",
        "    inputs=inputs,\n",
        "    outputs=outputs,\n",
        "    title=\"<span style='font-style: italic; font-weight: bold; color: darkred;'>Alec作品</span> -Stable Diffusion 图像艺术创作空间\",\n",
        "    description=\"详细输入您的想象，生成相应的图像\"\n",
        ").launch(share=True, debug=True)\n",
        "\n",
        "\n",
        "#iface.launch(share=True, debug=True)\n"
      ],
      "metadata": {
        "id": "Mh1RCznkSwCb"
      },
      "execution_count": null,
      "outputs": []
    }
  ]
}