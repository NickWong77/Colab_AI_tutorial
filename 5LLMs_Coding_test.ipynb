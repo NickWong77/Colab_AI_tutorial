{
  "nbformat": 4,
  "nbformat_minor": 0,
  "metadata": {
    "colab": {
      "provenance": [],
      "authorship_tag": "ABX9TyOOH/ruGIH9HukleTAlBClO",
      "include_colab_link": true
    },
    "kernelspec": {
      "name": "python3",
      "display_name": "Python 3"
    },
    "language_info": {
      "name": "python"
    }
  },
  "cells": [
    {
      "cell_type": "markdown",
      "metadata": {
        "id": "view-in-github",
        "colab_type": "text"
      },
      "source": [
        "<a href=\"https://colab.research.google.com/github/alecinvan/Colab_AI_tutorial/blob/main/5LLMs_Coding_test.ipynb\" target=\"_parent\"><img src=\"https://colab.research.google.com/assets/colab-badge.svg\" alt=\"Open In Colab\"/></a>"
      ]
    },
    {
      "cell_type": "markdown",
      "source": [
        "#<font color=\"blue\" size=\"8\"> 五个大语言模型的编程对比测试\n",
        "\n",
        "#<font color=\"darkred\" size=\"5\"> 5个大语言模型:\n",
        "1. **ChatGPT3.5**\n",
        "2. **GPT4**\n",
        "3. **Claude**\n",
        "4. **Bard**\n",
        "5. **CodeLlama**\n",
        "\n",
        "#<font color=\"darkred\" size=\"5\"> 5道编程题:\n",
        "1. 用 python 编写一个程序来判断给定的数字是否是素数。\n",
        "2. 编写一个Python 程序来查找数字的阶乘。\n",
        "3. 编写一个Python程序来打印圣诞树。 并运行它。\n",
        "4. 使用Python。 给定一个整数数组和，将所有 0 移至其末尾，同时保持非零元素的相对顺序。 请注意，您必须就地执行此操作，而不制作数组的副本。\n",
        "5. 用python写了一个完整的程序，可以让我和电脑下棋，还要告诉我如何下棋。"
      ],
      "metadata": {
        "id": "TJTXMtoBzCdF"
      }
    },
    {
      "cell_type": "markdown",
      "source": [
        "#<font color=\"darkblue\" size=\"6\"> 判断是否为素数"
      ],
      "metadata": {
        "id": "IxqYW0Y127-B"
      }
    },
    {
      "cell_type": "markdown",
      "source": [
        "<font color=\"red \" size=\"6\"> **ChatGPT3.5 (by OpenAI)**"
      ],
      "metadata": {
        "id": "5oleiWjI3R2F"
      }
    },
    {
      "cell_type": "code",
      "execution_count": 1,
      "metadata": {
        "colab": {
          "base_uri": "https://localhost:8080/"
        },
        "id": "j9-GrnKAKu9b",
        "outputId": "f4736180-e0ce-4e4c-e16a-0228aa8544c2"
      },
      "outputs": [
        {
          "output_type": "stream",
          "name": "stdout",
          "text": [
            "Enter a number: 7\n",
            "7 is a prime number.\n"
          ]
        }
      ],
      "source": [
        "def is_prime(number):\n",
        "    if number <= 1:\n",
        "        return False\n",
        "    if number <= 3:\n",
        "        return True\n",
        "    if number % 2 == 0 or number % 3 == 0:\n",
        "        return False\n",
        "\n",
        "    i = 5\n",
        "    while i * i <= number:\n",
        "        if number % i == 0 or number % (i + 2) == 0:\n",
        "            return False\n",
        "        i += 6\n",
        "\n",
        "    return True\n",
        "\n",
        "# Get input from the user\n",
        "num = int(input(\"Enter a number: \"))\n",
        "\n",
        "if is_prime(num):\n",
        "    print(f\"{num} is a prime number.\")\n",
        "else:\n",
        "    print(f\"{num} is not a prime number.\")\n"
      ]
    },
    {
      "cell_type": "markdown",
      "source": [
        "<font color=\"red \" size=\"6\"> **GPT4 (by OpenAI)**\n",
        "\n",
        "**I found the code is exactly same as ChatGPT3.5.**"
      ],
      "metadata": {
        "id": "PkrhqLj534_K"
      }
    },
    {
      "cell_type": "code",
      "source": [
        "def is_prime(n):\n",
        "    if n <= 1:\n",
        "        return False\n",
        "    elif n <= 3:\n",
        "        return True\n",
        "    elif n % 2 == 0 or n % 3 == 0:\n",
        "        return False\n",
        "    i = 5\n",
        "    while i * i <= n:\n",
        "        if n % i == 0 or n % (i + 2) == 0:\n",
        "            return False\n",
        "        i += 6\n",
        "    return True\n",
        "\n",
        "num = int(input(\"Enter a number: \"))\n",
        "\n",
        "if is_prime(num):\n",
        "    print(num, \"is a prime number\")\n",
        "else:\n",
        "    print(num, \"is not a prime number\")"
      ],
      "metadata": {
        "colab": {
          "base_uri": "https://localhost:8080/"
        },
        "id": "AXJitrij33z3",
        "outputId": "5a7e6411-634e-4849-95ce-d59a2c4b44d1"
      },
      "execution_count": 2,
      "outputs": [
        {
          "output_type": "stream",
          "name": "stdout",
          "text": [
            "Enter a number: 27\n",
            "27 is not a prime number\n"
          ]
        }
      ]
    },
    {
      "cell_type": "markdown",
      "source": [
        "<font color=\"red \" size=\"6\"> **Claude (by Anthropic)**\n"
      ],
      "metadata": {
        "id": "A_iWE7Oo4jik"
      }
    },
    {
      "cell_type": "code",
      "source": [
        "num = int(input(\"Enter a number: \"))\n",
        "\n",
        "# prime numbers are greater than 1\n",
        "if num > 1:\n",
        "   # check for factors\n",
        "   for i in range(2,num):\n",
        "       if (num % i) == 0:\n",
        "           print(num,\"is not a prime number\")\n",
        "           print(i,\"times\",num//i,\"is\",num)\n",
        "           break\n",
        "   else:\n",
        "       print(num,\"is a prime number\")\n",
        "\n",
        "# if input number is less than\n",
        "# or equal to 1, it is not prime\n",
        "else:\n",
        "   print(num,\"is not a prime number\")\n"
      ],
      "metadata": {
        "colab": {
          "base_uri": "https://localhost:8080/"
        },
        "id": "fuSN4OROL3Q8",
        "outputId": "c9aa0fe5-fd83-4b61-acb3-d00703b2b73e"
      },
      "execution_count": 4,
      "outputs": [
        {
          "output_type": "stream",
          "name": "stdout",
          "text": [
            "Enter a number: 17\n",
            "17 is a prime number\n"
          ]
        }
      ]
    },
    {
      "cell_type": "markdown",
      "source": [
        "<font color=\"red \" size=\"6\"> **Bard (by Google)**"
      ],
      "metadata": {
        "id": "ecM6x_Ck5BrR"
      }
    },
    {
      "cell_type": "code",
      "source": [
        "def is_prime(number):\n",
        "  \"\"\"\n",
        "  Returns True if the given number is prime, False otherwise.\n",
        "\n",
        "  Args:\n",
        "    number: The number to check.\n",
        "\n",
        "  Returns:\n",
        "    True if the number is prime, False otherwise.\n",
        "  \"\"\"\n",
        "\n",
        "  if number <= 1:\n",
        "    return False\n",
        "\n",
        "  for i in range(2, int(number ** 0.5) + 1):\n",
        "    if number % i == 0:\n",
        "      return False\n",
        "\n",
        "  return True\n",
        "\n",
        "\n",
        "def main():\n",
        "  number = int(input(\"Enter a number: \"))\n",
        "  if is_prime(number):\n",
        "    print(number, \"is a prime number.\")\n",
        "  else:\n",
        "    print(number, \"is not a prime number.\")\n",
        "\n",
        "\n",
        "if __name__ == \"__main__\":\n",
        "  main()"
      ],
      "metadata": {
        "colab": {
          "base_uri": "https://localhost:8080/"
        },
        "id": "UYLZQ5-9L7LH",
        "outputId": "5684334c-1f87-4241-9aee-d2f86a057090"
      },
      "execution_count": 5,
      "outputs": [
        {
          "output_type": "stream",
          "name": "stdout",
          "text": [
            "Enter a number: 17\n",
            "17 is a prime number.\n"
          ]
        }
      ]
    },
    {
      "cell_type": "markdown",
      "source": [
        "<font color=\"red \" size=\"6\"> **CodeLlama  (by MetaAI)**"
      ],
      "metadata": {
        "id": "u3zlIyIN5Yt5"
      }
    },
    {
      "cell_type": "code",
      "source": [
        "def is_prime(n):\n",
        "    if n <= 1:\n",
        "        return False\n",
        "    for i in range(2, n):\n",
        "        if n % i == 0:\n",
        "            return False\n",
        "    return True\n",
        "\n",
        "print(\"Enter a number: \")\n",
        "number = int(input())\n",
        "if is_prime(number):\n",
        "    print(\"Prime\")\n",
        "else:\n",
        "    print(\"Not Prime\")\n"
      ],
      "metadata": {
        "colab": {
          "base_uri": "https://localhost:8080/"
        },
        "id": "IBH1MD2FMPgd",
        "outputId": "e4d8f972-cf84-43b2-9338-fd251f228386"
      },
      "execution_count": 9,
      "outputs": [
        {
          "output_type": "stream",
          "name": "stdout",
          "text": [
            "Enter a number: \n",
            "100\n",
            "Not Prime\n"
          ]
        }
      ]
    },
    {
      "cell_type": "markdown",
      "source": [
        "#<font color=\"darkblue\" size=\"6\"> 查找数字的阶乘"
      ],
      "metadata": {
        "id": "tMu5_QmK7pWt"
      }
    },
    {
      "cell_type": "markdown",
      "source": [
        "<font color=\"red \" size=\"6\"> **ChatGPT3.5 (by OpenAI)**"
      ],
      "metadata": {
        "id": "Fr-mW8hj71hw"
      }
    },
    {
      "cell_type": "code",
      "source": [
        "def factorial(n):\n",
        "    if n == 0 or n == 1:\n",
        "        return 1\n",
        "    else:\n",
        "        return n * factorial(n - 1)\n",
        "\n",
        "# Get input from the user\n",
        "num = int(input(\"Enter a number: \"))\n",
        "\n",
        "if num < 0:\n",
        "    print(\"Factorial is not defined for negative numbers.\")\n",
        "else:\n",
        "    result = factorial(num)\n",
        "    print(f\"The factorial of {num} is {result}\")\n"
      ],
      "metadata": {
        "colab": {
          "base_uri": "https://localhost:8080/"
        },
        "id": "mW4Qykhs74MH",
        "outputId": "62570686-52b7-4b9f-806b-8ddf2524b9df"
      },
      "execution_count": 11,
      "outputs": [
        {
          "output_type": "stream",
          "name": "stdout",
          "text": [
            "Enter a number: 3\n",
            "The factorial of 3 is 6\n"
          ]
        }
      ]
    },
    {
      "cell_type": "markdown",
      "source": [
        "<font color=\"red \" size=\"6\"> **GPT4 (by OpenAI)**"
      ],
      "metadata": {
        "id": "QWug-kKz74rB"
      }
    },
    {
      "cell_type": "code",
      "source": [
        "def factorial(n):\n",
        "    if n == 0:\n",
        "        return 1\n",
        "    else:\n",
        "        return n * factorial(n-1)\n",
        "\n",
        "num = int(input(\"Enter a number: \"))\n",
        "\n",
        "print(\"The factorial of\", num, \"is\", factorial(num))"
      ],
      "metadata": {
        "colab": {
          "base_uri": "https://localhost:8080/"
        },
        "id": "bOo0HOVQ782d",
        "outputId": "806e2162-a98b-4fa9-ea38-e01d8dd7ada6"
      },
      "execution_count": 12,
      "outputs": [
        {
          "output_type": "stream",
          "name": "stdout",
          "text": [
            "Enter a number: 4\n",
            "The factorial of 4 is 24\n"
          ]
        }
      ]
    },
    {
      "cell_type": "markdown",
      "source": [
        "<font color=\"red \" size=\"6\"> **Claude (by Anthropic)**"
      ],
      "metadata": {
        "id": "NJHLoQu979Pe"
      }
    },
    {
      "cell_type": "code",
      "source": [
        "num = int(input(\"Enter a number: \"))\n",
        "\n",
        "factorial = 1\n",
        "\n",
        "# check if the number is negative, positive or zero\n",
        "if num < 0:\n",
        "   print(\"Sorry, factorial does not exist for negative numbers\")\n",
        "elif num == 0:\n",
        "   print(\"The factorial of 0 is 1\")\n",
        "else:\n",
        "   for i in range(1,num + 1):\n",
        "       factorial = factorial*i\n",
        "   print(\"The factorial of\",num,\"is\",factorial)"
      ],
      "metadata": {
        "colab": {
          "base_uri": "https://localhost:8080/"
        },
        "id": "bnp-HZrX8Gh6",
        "outputId": "6d510b03-0408-4438-826d-5b545b943327"
      },
      "execution_count": 15,
      "outputs": [
        {
          "output_type": "stream",
          "name": "stdout",
          "text": [
            "Enter a number: 4\n",
            "The factorial of 4 is 24\n"
          ]
        }
      ]
    },
    {
      "cell_type": "markdown",
      "source": [
        "<font color=\"red \" size=\"6\"> **Bard (by Google)**"
      ],
      "metadata": {
        "id": "mk4rz4n78HAq"
      }
    },
    {
      "cell_type": "code",
      "source": [
        "def factorial(number):\n",
        "  \"\"\"\n",
        "  Returns the factorial of the given number.\n",
        "\n",
        "  Args:\n",
        "    number: The number to find the factorial of.\n",
        "\n",
        "  Returns:\n",
        "    The factorial of the number.\n",
        "  \"\"\"\n",
        "\n",
        "  if number < 0:\n",
        "    raise ValueError(\"The number must be non-negative.\")\n",
        "\n",
        "  if number == 0:\n",
        "    return 1\n",
        "\n",
        "  factorial = 1\n",
        "  for i in range(1, number + 1):\n",
        "    factorial *= i\n",
        "\n",
        "  return factorial\n",
        "\n",
        "\n",
        "def main():\n",
        "  number = int(input(\"Enter a number: \"))\n",
        "  factorial1 = factorial(number)\n",
        "  print(\"The factorial of\", number, \"is\", factorial)\n",
        "\n",
        "\n",
        "if __name__ == \"__main__\":\n",
        "  main()\n"
      ],
      "metadata": {
        "colab": {
          "base_uri": "https://localhost:8080/"
        },
        "id": "dHtoDsY18OB0",
        "outputId": "2b5aaeb5-4336-4216-e5af-ae3c668aea2e"
      },
      "execution_count": 18,
      "outputs": [
        {
          "output_type": "stream",
          "name": "stdout",
          "text": [
            "Enter a number: 3\n",
            "The factorial of 3 is <function factorial at 0x7e84ded24280>\n"
          ]
        }
      ]
    },
    {
      "cell_type": "code",
      "source": [
        "factorial(4)"
      ],
      "metadata": {
        "colab": {
          "base_uri": "https://localhost:8080/"
        },
        "id": "nxk9dqVOAX1J",
        "outputId": "7c6cdd7c-bbed-480e-861c-50bf0ac95f96"
      },
      "execution_count": 21,
      "outputs": [
        {
          "output_type": "execute_result",
          "data": {
            "text/plain": [
              "24"
            ]
          },
          "metadata": {},
          "execution_count": 21
        }
      ]
    },
    {
      "cell_type": "markdown",
      "source": [],
      "metadata": {
        "id": "6PDRZAyNAXin"
      }
    },
    {
      "cell_type": "markdown",
      "source": [
        "<font color=\"red \" size=\"6\"> **CodeLlama (by MetaAI)**\n",
        "\n"
      ],
      "metadata": {
        "id": "Dr3FQTuk8O-L"
      }
    },
    {
      "cell_type": "code",
      "source": [
        "def find_factorial(n):\n",
        "    factorial = 1\n",
        "    for i in range(1, n+1):\n",
        "        factorial *= i\n",
        "    return factorial\n",
        "# Test case 1:\n",
        "assert find_factorial(0) == 1\n",
        "# Test case 2:\n",
        "assert find_factorial(1) == 1\n",
        "# Test case 3:\n",
        "assert find_factorial(5) == 120\n",
        "# Test case 4:\n",
        "assert find_factorial(10) == 3628800\n",
        "# Test case 5:\n",
        "assert find_factorial(20) == 2432902008176640000\n"
      ],
      "metadata": {
        "id": "IqLmviKo8VZc"
      },
      "execution_count": 22,
      "outputs": []
    },
    {
      "cell_type": "code",
      "source": [
        "find_factorial(4)"
      ],
      "metadata": {
        "colab": {
          "base_uri": "https://localhost:8080/"
        },
        "id": "kWWQGyrnBFvs",
        "outputId": "b6d132b8-c365-4580-a36f-c8baf8172731"
      },
      "execution_count": 23,
      "outputs": [
        {
          "output_type": "execute_result",
          "data": {
            "text/plain": [
              "24"
            ]
          },
          "metadata": {},
          "execution_count": 23
        }
      ]
    },
    {
      "cell_type": "markdown",
      "source": [
        "#<font color=\"darkblue\" size=\"6\"> 打印圣诞树"
      ],
      "metadata": {
        "id": "ujfE2Auu8dBs"
      }
    },
    {
      "cell_type": "markdown",
      "source": [
        "<font color=\"red \" size=\"6\"> **ChatGPT3.5 (by OpenAI)**"
      ],
      "metadata": {
        "id": "_Qhp-gEU9E_C"
      }
    },
    {
      "cell_type": "code",
      "source": [
        "def print_christmas_tree(height):\n",
        "    for i in range(height):\n",
        "        spaces = \" \" * (height - i - 1)\n",
        "        stars = \"*\" * (2 * i + 1)\n",
        "        print(spaces + stars)\n",
        "\n",
        "    trunk_spaces = \" \" * (height - 1)\n",
        "    print(trunk_spaces + \"|\")\n",
        "\n",
        "# Get the height of the tree from the user\n",
        "tree_height = int(input(\"Enter the height of the Christmas tree: \"))\n",
        "print_christmas_tree(tree_height)\n"
      ],
      "metadata": {
        "colab": {
          "base_uri": "https://localhost:8080/"
        },
        "id": "uxfwHbEZBQE3",
        "outputId": "b1bfb68f-ef29-4aea-be17-7a4ac4d28bae"
      },
      "execution_count": 24,
      "outputs": [
        {
          "output_type": "stream",
          "name": "stdout",
          "text": [
            "Enter the height of the Christmas tree: 8\n",
            "       *\n",
            "      ***\n",
            "     *****\n",
            "    *******\n",
            "   *********\n",
            "  ***********\n",
            " *************\n",
            "***************\n",
            "       |\n"
          ]
        }
      ]
    },
    {
      "cell_type": "markdown",
      "source": [
        "<font color=\"red \" size=\"6\"> **GPT4 (by OpenAI)**"
      ],
      "metadata": {
        "id": "YBQctj_49J3L"
      }
    },
    {
      "cell_type": "code",
      "source": [
        "def print_christmas_tree(height):\n",
        "    for i in range(height):\n",
        "        print(' '*(height-i-1) + '*'*(2*i+1))\n",
        "    print(' '*(height-1) + '|')\n",
        "\n",
        "height = int(input(\"Enter the height of the Christmas tree: \"))\n",
        "print_christmas_tree(height)\n"
      ],
      "metadata": {
        "colab": {
          "base_uri": "https://localhost:8080/"
        },
        "id": "sZUqOR1yBQsK",
        "outputId": "9e0d3f4d-f019-48b7-fee5-14f5a32eb013"
      },
      "execution_count": 25,
      "outputs": [
        {
          "output_type": "stream",
          "name": "stdout",
          "text": [
            "Enter the height of the Christmas tree: 10\n",
            "         *\n",
            "        ***\n",
            "       *****\n",
            "      *******\n",
            "     *********\n",
            "    ***********\n",
            "   *************\n",
            "  ***************\n",
            " *****************\n",
            "*******************\n",
            "         |\n"
          ]
        }
      ]
    },
    {
      "cell_type": "markdown",
      "source": [
        "<font color=\"red \" size=\"6\"> **Claude (by Anthropic)**"
      ],
      "metadata": {
        "id": "LOWt0Dr49Nn3"
      }
    },
    {
      "cell_type": "code",
      "source": [
        "# Program to print Christmas tree\n",
        "\n",
        "treeHeight = int(input(\"Enter tree height: \"))\n",
        "\n",
        "# print trunk\n",
        "print(\" \" * (treeHeight - 1) + \"#\")\n",
        "\n",
        "# print leaves\n",
        "for i in range(1, treeHeight):\n",
        "    print(\" \" * (treeHeight - i) + \"#\" * (2 * i - 1))\n",
        "\n",
        "# print base\n",
        "print(\"#\" * (2 * treeHeight - 1))"
      ],
      "metadata": {
        "colab": {
          "base_uri": "https://localhost:8080/"
        },
        "id": "UIYqmqFLBRRJ",
        "outputId": "782f094f-2bcd-4925-b810-4bf123e45af7"
      },
      "execution_count": 26,
      "outputs": [
        {
          "output_type": "stream",
          "name": "stdout",
          "text": [
            "Enter tree height: 8\n",
            "       #\n",
            "       #\n",
            "      ###\n",
            "     #####\n",
            "    #######\n",
            "   #########\n",
            "  ###########\n",
            " #############\n",
            "###############\n"
          ]
        }
      ]
    },
    {
      "cell_type": "markdown",
      "source": [
        "<font color=\"red \" size=\"6\"> **Bard (by Google)**"
      ],
      "metadata": {
        "id": "4UqadWxO9RhR"
      }
    },
    {
      "cell_type": "code",
      "source": [
        "def print_christmas_tree(height):\n",
        "  \"\"\"\n",
        "  Prints a Christmas tree of the given height.\n",
        "\n",
        "  Args:\n",
        "    height: The height of the Christmas tree.\n",
        "  \"\"\"\n",
        "\n",
        "  for i in range(height):\n",
        "    for j in range(height - i):\n",
        "      print(\" \", end=\"\")\n",
        "    for j in range(2 * i + 1):\n",
        "      print(\"*\", end=\"\")\n",
        "    print()\n",
        "\n",
        "\n",
        "def main():\n",
        "  height = int(input(\"Enter the height of the Christmas tree: \"))\n",
        "  print_christmas_tree(height)\n",
        "\n",
        "\n",
        "if __name__ == \"__main__\":\n",
        "  main()\n"
      ],
      "metadata": {
        "colab": {
          "base_uri": "https://localhost:8080/"
        },
        "id": "w9q515ffBR2G",
        "outputId": "2111bd5c-e5aa-46c3-94fb-b02029b22976"
      },
      "execution_count": 27,
      "outputs": [
        {
          "output_type": "stream",
          "name": "stdout",
          "text": [
            "Enter the height of the Christmas tree: 10\n",
            "          *\n",
            "         ***\n",
            "        *****\n",
            "       *******\n",
            "      *********\n",
            "     ***********\n",
            "    *************\n",
            "   ***************\n",
            "  *****************\n",
            " *******************\n"
          ]
        }
      ]
    },
    {
      "cell_type": "markdown",
      "source": [
        "<font color=\"red \" size=\"6\"> **CodeLlama (by MetaAI)**"
      ],
      "metadata": {
        "id": "UUECU23k9WTv"
      }
    },
    {
      "cell_type": "code",
      "source": [
        "# Set the height of the tree\n",
        "height = 10\n",
        "\n",
        "# Create a list to store the lines of the tree\n",
        "lines = []\n",
        "\n",
        "# Loop through the height of the tree\n",
        "for i in range(height):\n",
        "  # Calculate the number of spaces needed at this line\n",
        "  num_spaces = (height - i) * 2\n",
        "\n",
        "  # Add the appropriate number of spaces to the beginning of the line\n",
        "  line = ' ' * num_spaces\n",
        "\n",
        "  # Add the trunk of the tree to the end of the line\n",
        "  line += '#' * (i + 1)\n",
        "\n",
        "  # Add the line to the list of lines\n",
        "  lines.append(line)\n",
        "\n",
        "# Join the lines together with newline characters\n",
        "tree = '\\n'.join(lines)\n",
        "\n",
        "# Print the tree\n",
        "print(tree)\n"
      ],
      "metadata": {
        "colab": {
          "base_uri": "https://localhost:8080/"
        },
        "id": "h79z2s1GBTbq",
        "outputId": "9fae5956-4ec6-44f8-c066-edc877ee9761"
      },
      "execution_count": 28,
      "outputs": [
        {
          "output_type": "stream",
          "name": "stdout",
          "text": [
            "                    #\n",
            "                  ##\n",
            "                ###\n",
            "              ####\n",
            "            #####\n",
            "          ######\n",
            "        #######\n",
            "      ########\n",
            "    #########\n",
            "  ##########\n"
          ]
        }
      ]
    },
    {
      "cell_type": "markdown",
      "source": [
        "#<font color=\"darkblue\" size=\"6\"> 整数数组移位"
      ],
      "metadata": {
        "id": "NHjOQZMD8m9R"
      }
    },
    {
      "cell_type": "markdown",
      "source": [
        "<font color=\"red \" size=\"6\"> **ChatGPT3.5 (by OpenAI)**"
      ],
      "metadata": {
        "id": "TgPzHi3_9ig8"
      }
    },
    {
      "cell_type": "code",
      "source": [
        "def move_zeros_to_end(sums):\n",
        "    non_zero_idx = 0\n",
        "\n",
        "    # Move non-zero elements to the beginning\n",
        "    for i in range(len(sums)):\n",
        "        if sums[i] != 0:\n",
        "            sums[non_zero_idx] = sums[i]\n",
        "            non_zero_idx += 1\n",
        "\n",
        "    # Fill the rest of the array with zeros\n",
        "    while non_zero_idx < len(sums):\n",
        "        sums[non_zero_idx] = 0\n",
        "        non_zero_idx += 1\n",
        "\n",
        "# Example usage\n",
        "sums = [4, 0, 1, 0, 3, 0, 2]\n",
        "move_zeros_to_end(sums)\n",
        "print(sums)\n"
      ],
      "metadata": {
        "colab": {
          "base_uri": "https://localhost:8080/"
        },
        "id": "l2LHDRuD9iJy",
        "outputId": "7f47b51a-2385-4feb-943a-2cdba9f37788"
      },
      "execution_count": 29,
      "outputs": [
        {
          "output_type": "stream",
          "name": "stdout",
          "text": [
            "[4, 1, 3, 2, 0, 0, 0]\n"
          ]
        }
      ]
    },
    {
      "cell_type": "markdown",
      "source": [
        "<font color=\"red \" size=\"6\"> **GPT4 (by OpenAI)**"
      ],
      "metadata": {
        "id": "gSernTFb9oS8"
      }
    },
    {
      "cell_type": "code",
      "source": [
        "def move_zeros(nums):\n",
        "    pos = 0\n",
        "    for i in range(len(nums)):\n",
        "        if nums[i] != 0:\n",
        "            nums[pos], nums[i] = nums[i], nums[pos]\n",
        "            pos += 1\n",
        "    return nums\n",
        "\n",
        "nums = [0, 1, 0, 3, 12]\n",
        "print(move_zeros(nums))"
      ],
      "metadata": {
        "colab": {
          "base_uri": "https://localhost:8080/"
        },
        "id": "4RtgO2tjG8LT",
        "outputId": "ace0199a-359a-4675-b5fe-4eacca083360"
      },
      "execution_count": 30,
      "outputs": [
        {
          "output_type": "stream",
          "name": "stdout",
          "text": [
            "[1, 3, 12, 0, 0]\n"
          ]
        }
      ]
    },
    {
      "cell_type": "markdown",
      "source": [
        "<font color=\"red \" size=\"6\"> **Claude (by Anthropic)**"
      ],
      "metadata": {
        "id": "IDrwFkIp9sVh"
      }
    },
    {
      "cell_type": "code",
      "source": [
        "def moveZeros(arr):\n",
        "  n = len(arr)\n",
        "\n",
        "  # Count the zeroes\n",
        "  count = 0\n",
        "  for i in range(n):\n",
        "    if arr[i] == 0:\n",
        "      count += 1\n",
        "\n",
        "  # Loop fill the non-zero elements\n",
        "  for i in range(count, n):\n",
        "    if arr[i] != 0:\n",
        "      arr[i-count] = arr[i]\n",
        "      arr[i] = 0\n",
        "\n",
        "# Test array\n",
        "arr = [1, 9, 8, 4, 0, 0, 2, 7, 0, 6, 0]\n",
        "\n",
        "moveZeros(arr)\n",
        "\n",
        "print(arr)"
      ],
      "metadata": {
        "colab": {
          "base_uri": "https://localhost:8080/"
        },
        "id": "xVGDpkAaHDsa",
        "outputId": "d1ede0ab-2815-4831-d8e2-93a97cb97cc6"
      },
      "execution_count": 31,
      "outputs": [
        {
          "output_type": "stream",
          "name": "stdout",
          "text": [
            "[1, 9, 2, 7, 0, 6, 0, 0, 0, 0, 0]\n"
          ]
        }
      ]
    },
    {
      "cell_type": "markdown",
      "source": [
        "❌ Failed"
      ],
      "metadata": {
        "id": "DnA6IMZyHQrU"
      }
    },
    {
      "cell_type": "markdown",
      "source": [
        "<font color=\"red \" size=\"6\"> **Bard (by Google)**"
      ],
      "metadata": {
        "id": "ILCDs_fJ9wrM"
      }
    },
    {
      "cell_type": "code",
      "source": [
        "def move_zeros_to_end(array):\n",
        "  \"\"\"\n",
        "  Moves all 0's to the end of the given array in-place.\n",
        "\n",
        "  Args:\n",
        "    array: The array to move the 0's to the end of.\n",
        "  \"\"\"\n",
        "\n",
        "  i = 0\n",
        "  j = 0\n",
        "\n",
        "  while i < len(array):\n",
        "    if array[i] != 0:\n",
        "      array[j] = array[i]\n",
        "      j += 1\n",
        "    i += 1\n",
        "\n",
        "  while j < len(array):\n",
        "    array[j] = 0\n",
        "    j += 1\n",
        "\n",
        "\n",
        "def main():\n",
        "  array = [1, 2, 0, 3, 0, 4, 5, 0]\n",
        "  move_zeros_to_end(array)\n",
        "  print(array)\n",
        "\n",
        "\n",
        "if __name__ == \"__main__\":\n",
        "  main()\n"
      ],
      "metadata": {
        "colab": {
          "base_uri": "https://localhost:8080/"
        },
        "id": "oKNTXd1HHkbv",
        "outputId": "76fac8e6-139f-46f5-d7b3-c9ba6c9c3600"
      },
      "execution_count": 32,
      "outputs": [
        {
          "output_type": "stream",
          "name": "stdout",
          "text": [
            "[1, 2, 3, 4, 5, 0, 0, 0]\n"
          ]
        }
      ]
    },
    {
      "cell_type": "markdown",
      "source": [
        "<font color=\"red \" size=\"6\"> **CodeLlama (by MetaAI)**"
      ],
      "metadata": {
        "id": "qQG6896e9xUg"
      }
    },
    {
      "cell_type": "code",
      "source": [
        "def move_zeros(sums):\n",
        "    \"\"\"\n",
        "    Move all 0's to the end of the array while maintaining the relative order of the non-zero elements.\n",
        "    \"\"\"\n",
        "    length = len(sums)\n",
        "    insert_index = 0\n",
        "    for i in range(length):\n",
        "        if sums[i] != 0:\n",
        "            sums[insert_index] = sums[i]\n",
        "            insert_index += 1\n",
        "    sums[insert_index:] = [0] * (length - insert_index)\n",
        "    return sums\n",
        "# Test case 1:\n",
        "assert move_zeros([1, 2, 0, 3, 4, 0]) == [1, 2, 3, 4, 0, 0]\n",
        "# Test case 2:\n",
        "assert move_zeros([1, 2, 3, 4, 0, 0]) == [1, 2, 3, 4, 0, 0]\n",
        "# Test case 3:\n",
        "assert move_zeros([0, 0, 0, 0, 0]) == [0, 0, 0, 0, 0]\n",
        "# Test case 4:\n",
        "assert move_zeros([1, 2, 3, 4]) == [1, 2, 3, 4]\n",
        "# Test case 5:\n",
        "assert move_zeros([]) == []\n"
      ],
      "metadata": {
        "id": "LLD0jZW2Hp2J"
      },
      "execution_count": 33,
      "outputs": []
    },
    {
      "cell_type": "code",
      "source": [
        "move_zeros([1, 2, 0, 3, 0, 4, 5, 0])"
      ],
      "metadata": {
        "colab": {
          "base_uri": "https://localhost:8080/"
        },
        "id": "J-O7W4wNH7eK",
        "outputId": "68a35696-afab-43d6-ef11-cad8dfc1c86c"
      },
      "execution_count": 34,
      "outputs": [
        {
          "output_type": "execute_result",
          "data": {
            "text/plain": [
              "[1, 2, 3, 4, 5, 0, 0, 0]"
            ]
          },
          "metadata": {},
          "execution_count": 34
        }
      ]
    },
    {
      "cell_type": "markdown",
      "source": [
        "#<font color=\"darkblue\" size=\"6\"> 下象棋"
      ],
      "metadata": {
        "id": "3vlo0-_z89HN"
      }
    },
    {
      "cell_type": "markdown",
      "source": [
        "<font color=\"red \" size=\"6\"> **ChatGPT3.5 (by OpenAI)**"
      ],
      "metadata": {
        "id": "HgkynSGH86Ou"
      }
    },
    {
      "cell_type": "code",
      "source": [
        "import random\n",
        "\n",
        "def print_board(board):\n",
        "    for row in board:\n",
        "        print(\" \".join(row))\n",
        "    print()\n",
        "\n",
        "def initialize_board():\n",
        "    return [\n",
        "        [\"R\", \"N\", \"B\", \"Q\", \"K\", \"B\", \"N\", \"R\"],\n",
        "        [\"P\", \"P\", \"P\", \"P\", \"P\", \"P\", \"P\", \"P\"],\n",
        "        [\".\", \".\", \".\", \".\", \".\", \".\", \".\", \".\"],\n",
        "        [\".\", \".\", \".\", \".\", \".\", \".\", \".\", \".\"],\n",
        "        [\".\", \".\", \".\", \".\", \".\", \".\", \".\", \".\"],\n",
        "        [\".\", \".\", \".\", \".\", \".\", \".\", \".\", \".\"],\n",
        "        [\"p\", \"p\", \"p\", \"p\", \"p\", \"p\", \"p\", \"p\"],\n",
        "        [\"r\", \"n\", \"b\", \"q\", \"k\", \"b\", \"n\", \"r\"]\n",
        "    ]\n",
        "\n",
        "def get_coordinates(move):\n",
        "    col_mapping = {'a': 0, 'b': 1, 'c': 2, 'd': 3, 'e': 4, 'f': 5, 'g': 6, 'h': 7}\n",
        "    row = int(move[1]) - 1\n",
        "    col = col_mapping[move[0]]\n",
        "    return row, col\n",
        "\n",
        "def get_player_move():\n",
        "    move = input(\"Enter your move (e.g., 'e2 e4'): \")\n",
        "    start, end = move.split()\n",
        "    return get_coordinates(start), get_coordinates(end)\n",
        "\n",
        "def make_computer_move(board):\n",
        "    legal_moves = []\n",
        "    for i in range(8):\n",
        "        for j in range(8):\n",
        "            if board[i][j].islower():\n",
        "                legal_moves.append((i, j))\n",
        "\n",
        "    start_i, start_j = random.choice(legal_moves)\n",
        "    end_i, end_j = random.choice(legal_moves)\n",
        "\n",
        "    return (start_i, start_j), (end_i, end_j)\n",
        "\n",
        "def apply_move(board, move):\n",
        "    (start_i, start_j), (end_i, end_j) = move\n",
        "    board[end_i][end_j] = board[start_i][start_j]\n",
        "    board[start_i][start_j] = \".\"\n",
        "\n",
        "def main():\n",
        "    board = initialize_board()\n",
        "    print(\"Welcome to Chess!\")\n",
        "\n",
        "    while True:\n",
        "        print_board(board)\n",
        "\n",
        "        player_move = get_player_move()\n",
        "        apply_move(board, player_move)\n",
        "        print_board(board)\n",
        "\n",
        "        computer_move = make_computer_move(board)\n",
        "        apply_move(board, computer_move)\n",
        "        print_board(board)\n",
        "\n",
        "if __name__ == \"__main__\":\n",
        "    main()\n"
      ],
      "metadata": {
        "colab": {
          "base_uri": "https://localhost:8080/",
          "height": 1000
        },
        "id": "N7CqMQKUJa-q",
        "outputId": "a712525d-5432-4386-8c2c-f2cc8d2020f3"
      },
      "execution_count": 37,
      "outputs": [
        {
          "output_type": "stream",
          "name": "stdout",
          "text": [
            "Welcome to Chess!\n",
            "R N B Q K B N R\n",
            "P P P P P P P P\n",
            ". . . . . . . .\n",
            ". . . . . . . .\n",
            ". . . . . . . .\n",
            ". . . . . . . .\n",
            "p p p p p p p p\n",
            "r n b q k b n r\n",
            "\n",
            "Enter your move (e.g., 'e2 e4'): e2 e4\n",
            "R N B Q K B N R\n",
            "P P P P . P P P\n",
            ". . . . . . . .\n",
            ". . . . P . . .\n",
            ". . . . . . . .\n",
            ". . . . . . . .\n",
            "p p p p p p p p\n",
            "r n b q k b n r\n",
            "\n",
            "R N B Q K B N R\n",
            "P P P P . P P P\n",
            ". . . . . . . .\n",
            ". . . . P . . .\n",
            ". . . . . . . .\n",
            ". . . . . . . .\n",
            "n p p p p p p p\n",
            "r . b q k b n r\n",
            "\n",
            "R N B Q K B N R\n",
            "P P P P . P P P\n",
            ". . . . . . . .\n",
            ". . . . P . . .\n",
            ". . . . . . . .\n",
            ". . . . . . . .\n",
            "n p p p p p p p\n",
            "r . b q k b n r\n",
            "\n"
          ]
        },
        {
          "output_type": "error",
          "ename": "KeyboardInterrupt",
          "evalue": "ignored",
          "traceback": [
            "\u001b[0;31m---------------------------------------------------------------------------\u001b[0m",
            "\u001b[0;31mKeyboardInterrupt\u001b[0m                         Traceback (most recent call last)",
            "\u001b[0;32m<ipython-input-37-2bc68c39ead1>\u001b[0m in \u001b[0;36m<cell line: 63>\u001b[0;34m()\u001b[0m\n\u001b[1;32m     62\u001b[0m \u001b[0;34m\u001b[0m\u001b[0m\n\u001b[1;32m     63\u001b[0m \u001b[0;32mif\u001b[0m \u001b[0m__name__\u001b[0m \u001b[0;34m==\u001b[0m \u001b[0;34m\"__main__\"\u001b[0m\u001b[0;34m:\u001b[0m\u001b[0;34m\u001b[0m\u001b[0;34m\u001b[0m\u001b[0m\n\u001b[0;32m---> 64\u001b[0;31m     \u001b[0mmain\u001b[0m\u001b[0;34m(\u001b[0m\u001b[0;34m)\u001b[0m\u001b[0;34m\u001b[0m\u001b[0;34m\u001b[0m\u001b[0m\n\u001b[0m",
            "\u001b[0;32m<ipython-input-37-2bc68c39ead1>\u001b[0m in \u001b[0;36mmain\u001b[0;34m()\u001b[0m\n\u001b[1;32m     53\u001b[0m         \u001b[0mprint_board\u001b[0m\u001b[0;34m(\u001b[0m\u001b[0mboard\u001b[0m\u001b[0;34m)\u001b[0m\u001b[0;34m\u001b[0m\u001b[0;34m\u001b[0m\u001b[0m\n\u001b[1;32m     54\u001b[0m \u001b[0;34m\u001b[0m\u001b[0m\n\u001b[0;32m---> 55\u001b[0;31m         \u001b[0mplayer_move\u001b[0m \u001b[0;34m=\u001b[0m \u001b[0mget_player_move\u001b[0m\u001b[0;34m(\u001b[0m\u001b[0;34m)\u001b[0m\u001b[0;34m\u001b[0m\u001b[0;34m\u001b[0m\u001b[0m\n\u001b[0m\u001b[1;32m     56\u001b[0m         \u001b[0mapply_move\u001b[0m\u001b[0;34m(\u001b[0m\u001b[0mboard\u001b[0m\u001b[0;34m,\u001b[0m \u001b[0mplayer_move\u001b[0m\u001b[0;34m)\u001b[0m\u001b[0;34m\u001b[0m\u001b[0;34m\u001b[0m\u001b[0m\n\u001b[1;32m     57\u001b[0m         \u001b[0mprint_board\u001b[0m\u001b[0;34m(\u001b[0m\u001b[0mboard\u001b[0m\u001b[0;34m)\u001b[0m\u001b[0;34m\u001b[0m\u001b[0;34m\u001b[0m\u001b[0m\n",
            "\u001b[0;32m<ipython-input-37-2bc68c39ead1>\u001b[0m in \u001b[0;36mget_player_move\u001b[0;34m()\u001b[0m\n\u001b[1;32m     25\u001b[0m \u001b[0;34m\u001b[0m\u001b[0m\n\u001b[1;32m     26\u001b[0m \u001b[0;32mdef\u001b[0m \u001b[0mget_player_move\u001b[0m\u001b[0;34m(\u001b[0m\u001b[0;34m)\u001b[0m\u001b[0;34m:\u001b[0m\u001b[0;34m\u001b[0m\u001b[0;34m\u001b[0m\u001b[0m\n\u001b[0;32m---> 27\u001b[0;31m     \u001b[0mmove\u001b[0m \u001b[0;34m=\u001b[0m \u001b[0minput\u001b[0m\u001b[0;34m(\u001b[0m\u001b[0;34m\"Enter your move (e.g., 'e2 e4'): \"\u001b[0m\u001b[0;34m)\u001b[0m\u001b[0;34m\u001b[0m\u001b[0;34m\u001b[0m\u001b[0m\n\u001b[0m\u001b[1;32m     28\u001b[0m     \u001b[0mstart\u001b[0m\u001b[0;34m,\u001b[0m \u001b[0mend\u001b[0m \u001b[0;34m=\u001b[0m \u001b[0mmove\u001b[0m\u001b[0;34m.\u001b[0m\u001b[0msplit\u001b[0m\u001b[0;34m(\u001b[0m\u001b[0;34m)\u001b[0m\u001b[0;34m\u001b[0m\u001b[0;34m\u001b[0m\u001b[0m\n\u001b[1;32m     29\u001b[0m     \u001b[0;32mreturn\u001b[0m \u001b[0mget_coordinates\u001b[0m\u001b[0;34m(\u001b[0m\u001b[0mstart\u001b[0m\u001b[0;34m)\u001b[0m\u001b[0;34m,\u001b[0m \u001b[0mget_coordinates\u001b[0m\u001b[0;34m(\u001b[0m\u001b[0mend\u001b[0m\u001b[0;34m)\u001b[0m\u001b[0;34m\u001b[0m\u001b[0;34m\u001b[0m\u001b[0m\n",
            "\u001b[0;32m/usr/local/lib/python3.10/dist-packages/ipykernel/kernelbase.py\u001b[0m in \u001b[0;36mraw_input\u001b[0;34m(self, prompt)\u001b[0m\n\u001b[1;32m    849\u001b[0m                 \u001b[0;34m\"raw_input was called, but this frontend does not support input requests.\"\u001b[0m\u001b[0;34m\u001b[0m\u001b[0;34m\u001b[0m\u001b[0m\n\u001b[1;32m    850\u001b[0m             )\n\u001b[0;32m--> 851\u001b[0;31m         return self._input_request(str(prompt),\n\u001b[0m\u001b[1;32m    852\u001b[0m             \u001b[0mself\u001b[0m\u001b[0;34m.\u001b[0m\u001b[0m_parent_ident\u001b[0m\u001b[0;34m,\u001b[0m\u001b[0;34m\u001b[0m\u001b[0;34m\u001b[0m\u001b[0m\n\u001b[1;32m    853\u001b[0m             \u001b[0mself\u001b[0m\u001b[0;34m.\u001b[0m\u001b[0m_parent_header\u001b[0m\u001b[0;34m,\u001b[0m\u001b[0;34m\u001b[0m\u001b[0;34m\u001b[0m\u001b[0m\n",
            "\u001b[0;32m/usr/local/lib/python3.10/dist-packages/ipykernel/kernelbase.py\u001b[0m in \u001b[0;36m_input_request\u001b[0;34m(self, prompt, ident, parent, password)\u001b[0m\n\u001b[1;32m    893\u001b[0m             \u001b[0;32mexcept\u001b[0m \u001b[0mKeyboardInterrupt\u001b[0m\u001b[0;34m:\u001b[0m\u001b[0;34m\u001b[0m\u001b[0;34m\u001b[0m\u001b[0m\n\u001b[1;32m    894\u001b[0m                 \u001b[0;31m# re-raise KeyboardInterrupt, to truncate traceback\u001b[0m\u001b[0;34m\u001b[0m\u001b[0;34m\u001b[0m\u001b[0m\n\u001b[0;32m--> 895\u001b[0;31m                 \u001b[0;32mraise\u001b[0m \u001b[0mKeyboardInterrupt\u001b[0m\u001b[0;34m(\u001b[0m\u001b[0;34m\"Interrupted by user\"\u001b[0m\u001b[0;34m)\u001b[0m \u001b[0;32mfrom\u001b[0m \u001b[0;32mNone\u001b[0m\u001b[0;34m\u001b[0m\u001b[0;34m\u001b[0m\u001b[0m\n\u001b[0m\u001b[1;32m    896\u001b[0m             \u001b[0;32mexcept\u001b[0m \u001b[0mException\u001b[0m \u001b[0;32mas\u001b[0m \u001b[0me\u001b[0m\u001b[0;34m:\u001b[0m\u001b[0;34m\u001b[0m\u001b[0;34m\u001b[0m\u001b[0m\n\u001b[1;32m    897\u001b[0m                 \u001b[0mself\u001b[0m\u001b[0;34m.\u001b[0m\u001b[0mlog\u001b[0m\u001b[0;34m.\u001b[0m\u001b[0mwarning\u001b[0m\u001b[0;34m(\u001b[0m\u001b[0;34m\"Invalid Message:\"\u001b[0m\u001b[0;34m,\u001b[0m \u001b[0mexc_info\u001b[0m\u001b[0;34m=\u001b[0m\u001b[0;32mTrue\u001b[0m\u001b[0;34m)\u001b[0m\u001b[0;34m\u001b[0m\u001b[0;34m\u001b[0m\u001b[0m\n",
            "\u001b[0;31mKeyboardInterrupt\u001b[0m: Interrupted by user"
          ]
        }
      ]
    },
    {
      "cell_type": "markdown",
      "source": [
        "<font color=\"red \" size=\"6\"> **GPT4 (by OpenAI)**"
      ],
      "metadata": {
        "id": "WfxP2BwWzAqL"
      }
    },
    {
      "cell_type": "code",
      "source": [
        "!pip install python-chess"
      ],
      "metadata": {
        "colab": {
          "base_uri": "https://localhost:8080/"
        },
        "id": "QXjI6NHFiJ_Z",
        "outputId": "1178c995-2fce-41bb-a370-540d718d4b41"
      },
      "execution_count": 40,
      "outputs": [
        {
          "output_type": "stream",
          "name": "stdout",
          "text": [
            "Collecting python-chess\n",
            "  Downloading python_chess-1.999-py3-none-any.whl (1.4 kB)\n",
            "Collecting chess<2,>=1 (from python-chess)\n",
            "  Downloading chess-1.10.0-py3-none-any.whl (154 kB)\n",
            "\u001b[2K     \u001b[90m━━━━━━━━━━━━━━━━━━━━━━━━━━━━━━━━━━━━━━━\u001b[0m \u001b[32m154.4/154.4 kB\u001b[0m \u001b[31m3.6 MB/s\u001b[0m eta \u001b[36m0:00:00\u001b[0m\n",
            "\u001b[?25hInstalling collected packages: chess, python-chess\n",
            "Successfully installed chess-1.10.0 python-chess-1.999\n"
          ]
        }
      ]
    },
    {
      "cell_type": "code",
      "source": [
        "import chess\n",
        "import random\n",
        "\n",
        "# Defining how the computer makes moves\n",
        "def computer_move(board):\n",
        "    move = random.choice(list(board.legal_moves))\n",
        "    return move.uci()\n",
        "\n",
        "# Asking the user for a move\n",
        "def user_move():\n",
        "    uci_move = input('Input your move in the format (ex: g1f3): ')\n",
        "    return str(uci_move)\n",
        "\n",
        "# The function for the game\n",
        "def play_chess():\n",
        "    board = chess.Board()\n",
        "\n",
        "    while not board.is_checkmate():\n",
        "        print(board)\n",
        "        if board.turn:\n",
        "            move = user_move()\n",
        "            if move in [m.uci() for m in board.legal_moves]:\n",
        "                board.push_uci(move)\n",
        "            else:\n",
        "                print('Invalid move, please try again.')\n",
        "                continue\n",
        "        else:\n",
        "            move = computer_move(board)\n",
        "            board.push_uci(move)\n",
        "\n",
        "    print(\"Game over. Checkmate!\")\n",
        "    print(board)\n",
        "\n",
        "play_chess()"
      ],
      "metadata": {
        "colab": {
          "base_uri": "https://localhost:8080/",
          "height": 810
        },
        "id": "sKK0ljRLLyTQ",
        "outputId": "a2572544-61b6-4309-a418-f063a65942d6"
      },
      "execution_count": 41,
      "outputs": [
        {
          "output_type": "stream",
          "name": "stdout",
          "text": [
            "r n b q k b n r\n",
            "p p p p p p p p\n",
            ". . . . . . . .\n",
            ". . . . . . . .\n",
            ". . . . . . . .\n",
            ". . . . . . . .\n",
            "P P P P P P P P\n",
            "R N B Q K B N R\n",
            "Input your move in the format (ex: g1f3): g1f3\n",
            "r n b q k b n r\n",
            "p p p p p p p p\n",
            ". . . . . . . .\n",
            ". . . . . . . .\n",
            ". . . . . . . .\n",
            ". . . . . N . .\n",
            "P P P P P P P P\n",
            "R N B Q K B . R\n",
            "r n b q k b n r\n",
            "p . p p p p p p\n",
            ". p . . . . . .\n",
            ". . . . . . . .\n",
            ". . . . . . . .\n",
            ". . . . . N . .\n",
            "P P P P P P P P\n",
            "R N B Q K B . R\n"
          ]
        },
        {
          "output_type": "error",
          "ename": "KeyboardInterrupt",
          "evalue": "ignored",
          "traceback": [
            "\u001b[0;31m---------------------------------------------------------------------------\u001b[0m",
            "\u001b[0;31mKeyboardInterrupt\u001b[0m                         Traceback (most recent call last)",
            "\u001b[0;32m<ipython-input-41-389bf60cc28f>\u001b[0m in \u001b[0;36m<cell line: 34>\u001b[0;34m()\u001b[0m\n\u001b[1;32m     32\u001b[0m     \u001b[0mprint\u001b[0m\u001b[0;34m(\u001b[0m\u001b[0mboard\u001b[0m\u001b[0;34m)\u001b[0m\u001b[0;34m\u001b[0m\u001b[0;34m\u001b[0m\u001b[0m\n\u001b[1;32m     33\u001b[0m \u001b[0;34m\u001b[0m\u001b[0m\n\u001b[0;32m---> 34\u001b[0;31m \u001b[0mplay_chess\u001b[0m\u001b[0;34m(\u001b[0m\u001b[0;34m)\u001b[0m\u001b[0;34m\u001b[0m\u001b[0;34m\u001b[0m\u001b[0m\n\u001b[0m",
            "\u001b[0;32m<ipython-input-41-389bf60cc28f>\u001b[0m in \u001b[0;36mplay_chess\u001b[0;34m()\u001b[0m\n\u001b[1;32m     19\u001b[0m         \u001b[0mprint\u001b[0m\u001b[0;34m(\u001b[0m\u001b[0mboard\u001b[0m\u001b[0;34m)\u001b[0m\u001b[0;34m\u001b[0m\u001b[0;34m\u001b[0m\u001b[0m\n\u001b[1;32m     20\u001b[0m         \u001b[0;32mif\u001b[0m \u001b[0mboard\u001b[0m\u001b[0;34m.\u001b[0m\u001b[0mturn\u001b[0m\u001b[0;34m:\u001b[0m\u001b[0;34m\u001b[0m\u001b[0;34m\u001b[0m\u001b[0m\n\u001b[0;32m---> 21\u001b[0;31m             \u001b[0mmove\u001b[0m \u001b[0;34m=\u001b[0m \u001b[0muser_move\u001b[0m\u001b[0;34m(\u001b[0m\u001b[0;34m)\u001b[0m\u001b[0;34m\u001b[0m\u001b[0;34m\u001b[0m\u001b[0m\n\u001b[0m\u001b[1;32m     22\u001b[0m             \u001b[0;32mif\u001b[0m \u001b[0mmove\u001b[0m \u001b[0;32min\u001b[0m \u001b[0;34m[\u001b[0m\u001b[0mm\u001b[0m\u001b[0;34m.\u001b[0m\u001b[0muci\u001b[0m\u001b[0;34m(\u001b[0m\u001b[0;34m)\u001b[0m \u001b[0;32mfor\u001b[0m \u001b[0mm\u001b[0m \u001b[0;32min\u001b[0m \u001b[0mboard\u001b[0m\u001b[0;34m.\u001b[0m\u001b[0mlegal_moves\u001b[0m\u001b[0;34m]\u001b[0m\u001b[0;34m:\u001b[0m\u001b[0;34m\u001b[0m\u001b[0;34m\u001b[0m\u001b[0m\n\u001b[1;32m     23\u001b[0m                 \u001b[0mboard\u001b[0m\u001b[0;34m.\u001b[0m\u001b[0mpush_uci\u001b[0m\u001b[0;34m(\u001b[0m\u001b[0mmove\u001b[0m\u001b[0;34m)\u001b[0m\u001b[0;34m\u001b[0m\u001b[0;34m\u001b[0m\u001b[0m\n",
            "\u001b[0;32m<ipython-input-41-389bf60cc28f>\u001b[0m in \u001b[0;36muser_move\u001b[0;34m()\u001b[0m\n\u001b[1;32m      9\u001b[0m \u001b[0;31m# Asking the user for a move\u001b[0m\u001b[0;34m\u001b[0m\u001b[0;34m\u001b[0m\u001b[0m\n\u001b[1;32m     10\u001b[0m \u001b[0;32mdef\u001b[0m \u001b[0muser_move\u001b[0m\u001b[0;34m(\u001b[0m\u001b[0;34m)\u001b[0m\u001b[0;34m:\u001b[0m\u001b[0;34m\u001b[0m\u001b[0;34m\u001b[0m\u001b[0m\n\u001b[0;32m---> 11\u001b[0;31m     \u001b[0muci_move\u001b[0m \u001b[0;34m=\u001b[0m \u001b[0minput\u001b[0m\u001b[0;34m(\u001b[0m\u001b[0;34m'Input your move in the format (ex: g1f3): '\u001b[0m\u001b[0;34m)\u001b[0m\u001b[0;34m\u001b[0m\u001b[0;34m\u001b[0m\u001b[0m\n\u001b[0m\u001b[1;32m     12\u001b[0m     \u001b[0;32mreturn\u001b[0m \u001b[0mstr\u001b[0m\u001b[0;34m(\u001b[0m\u001b[0muci_move\u001b[0m\u001b[0;34m)\u001b[0m\u001b[0;34m\u001b[0m\u001b[0;34m\u001b[0m\u001b[0m\n\u001b[1;32m     13\u001b[0m \u001b[0;34m\u001b[0m\u001b[0m\n",
            "\u001b[0;32m/usr/local/lib/python3.10/dist-packages/ipykernel/kernelbase.py\u001b[0m in \u001b[0;36mraw_input\u001b[0;34m(self, prompt)\u001b[0m\n\u001b[1;32m    849\u001b[0m                 \u001b[0;34m\"raw_input was called, but this frontend does not support input requests.\"\u001b[0m\u001b[0;34m\u001b[0m\u001b[0;34m\u001b[0m\u001b[0m\n\u001b[1;32m    850\u001b[0m             )\n\u001b[0;32m--> 851\u001b[0;31m         return self._input_request(str(prompt),\n\u001b[0m\u001b[1;32m    852\u001b[0m             \u001b[0mself\u001b[0m\u001b[0;34m.\u001b[0m\u001b[0m_parent_ident\u001b[0m\u001b[0;34m,\u001b[0m\u001b[0;34m\u001b[0m\u001b[0;34m\u001b[0m\u001b[0m\n\u001b[1;32m    853\u001b[0m             \u001b[0mself\u001b[0m\u001b[0;34m.\u001b[0m\u001b[0m_parent_header\u001b[0m\u001b[0;34m,\u001b[0m\u001b[0;34m\u001b[0m\u001b[0;34m\u001b[0m\u001b[0m\n",
            "\u001b[0;32m/usr/local/lib/python3.10/dist-packages/ipykernel/kernelbase.py\u001b[0m in \u001b[0;36m_input_request\u001b[0;34m(self, prompt, ident, parent, password)\u001b[0m\n\u001b[1;32m    893\u001b[0m             \u001b[0;32mexcept\u001b[0m \u001b[0mKeyboardInterrupt\u001b[0m\u001b[0;34m:\u001b[0m\u001b[0;34m\u001b[0m\u001b[0;34m\u001b[0m\u001b[0m\n\u001b[1;32m    894\u001b[0m                 \u001b[0;31m# re-raise KeyboardInterrupt, to truncate traceback\u001b[0m\u001b[0;34m\u001b[0m\u001b[0;34m\u001b[0m\u001b[0m\n\u001b[0;32m--> 895\u001b[0;31m                 \u001b[0;32mraise\u001b[0m \u001b[0mKeyboardInterrupt\u001b[0m\u001b[0;34m(\u001b[0m\u001b[0;34m\"Interrupted by user\"\u001b[0m\u001b[0;34m)\u001b[0m \u001b[0;32mfrom\u001b[0m \u001b[0;32mNone\u001b[0m\u001b[0;34m\u001b[0m\u001b[0;34m\u001b[0m\u001b[0m\n\u001b[0m\u001b[1;32m    896\u001b[0m             \u001b[0;32mexcept\u001b[0m \u001b[0mException\u001b[0m \u001b[0;32mas\u001b[0m \u001b[0me\u001b[0m\u001b[0;34m:\u001b[0m\u001b[0;34m\u001b[0m\u001b[0;34m\u001b[0m\u001b[0m\n\u001b[1;32m    897\u001b[0m                 \u001b[0mself\u001b[0m\u001b[0;34m.\u001b[0m\u001b[0mlog\u001b[0m\u001b[0;34m.\u001b[0m\u001b[0mwarning\u001b[0m\u001b[0;34m(\u001b[0m\u001b[0;34m\"Invalid Message:\"\u001b[0m\u001b[0;34m,\u001b[0m \u001b[0mexc_info\u001b[0m\u001b[0;34m=\u001b[0m\u001b[0;32mTrue\u001b[0m\u001b[0;34m)\u001b[0m\u001b[0;34m\u001b[0m\u001b[0;34m\u001b[0m\u001b[0m\n",
            "\u001b[0;31mKeyboardInterrupt\u001b[0m: Interrupted by user"
          ]
        }
      ]
    },
    {
      "cell_type": "markdown",
      "source": [
        "<font color=\"red \" size=\"6\"> **Claude (by Anthropic)**"
      ],
      "metadata": {
        "id": "Cksrf8Mz-Dr7"
      }
    },
    {
      "cell_type": "code",
      "source": [
        "import chess\n",
        "import random\n",
        "\n",
        "# Initialize chess board\n",
        "board = chess.Board()\n",
        "\n",
        "# Main game loop\n",
        "while not board.is_game_over():\n",
        "\n",
        "    # Print current board state\n",
        "    print(board)\n",
        "\n",
        "    # Get user move\n",
        "    if board.turn == chess.WHITE:\n",
        "        uci_move = input(\"Enter your move for white (e.g. e2e4): \")\n",
        "        move = chess.Move.from_uci(uci_move)\n",
        "    else:\n",
        "        # AI move - make random legal move\n",
        "        ai_moves = list(board.legal_moves)\n",
        "        ai_move = random.choice(ai_moves)\n",
        "        move = ai_move\n",
        "        print(\"AI move: \", move)\n",
        "\n",
        "    # Make the move\n",
        "    board.push(move)\n",
        "\n",
        "# Print final state of board\n",
        "print(board)\n",
        "print(\"Game over\")"
      ],
      "metadata": {
        "colab": {
          "base_uri": "https://localhost:8080/",
          "height": 863
        },
        "id": "2MqmAKAiMA9Z",
        "outputId": "8601380d-09dc-4a97-8a0c-10b5eed0e34b"
      },
      "execution_count": 42,
      "outputs": [
        {
          "output_type": "stream",
          "name": "stdout",
          "text": [
            "r n b q k b n r\n",
            "p p p p p p p p\n",
            ". . . . . . . .\n",
            ". . . . . . . .\n",
            ". . . . . . . .\n",
            ". . . . . . . .\n",
            "P P P P P P P P\n",
            "R N B Q K B N R\n",
            "Enter your move for white (e.g. e2e4): e2e4\n",
            "r n b q k b n r\n",
            "p p p p p p p p\n",
            ". . . . . . . .\n",
            ". . . . . . . .\n",
            ". . . . P . . .\n",
            ". . . . . . . .\n",
            "P P P P . P P P\n",
            "R N B Q K B N R\n",
            "AI move:  b7b6\n",
            "r n b q k b n r\n",
            "p . p p p p p p\n",
            ". p . . . . . .\n",
            ". . . . . . . .\n",
            ". . . . P . . .\n",
            ". . . . . . . .\n",
            "P P P P . P P P\n",
            "R N B Q K B N R\n"
          ]
        },
        {
          "output_type": "error",
          "ename": "KeyboardInterrupt",
          "evalue": "ignored",
          "traceback": [
            "\u001b[0;31m---------------------------------------------------------------------------\u001b[0m",
            "\u001b[0;31mKeyboardInterrupt\u001b[0m                         Traceback (most recent call last)",
            "\u001b[0;32m<ipython-input-42-809ffcbe31e1>\u001b[0m in \u001b[0;36m<cell line: 8>\u001b[0;34m()\u001b[0m\n\u001b[1;32m     13\u001b[0m     \u001b[0;31m# Get user move\u001b[0m\u001b[0;34m\u001b[0m\u001b[0;34m\u001b[0m\u001b[0m\n\u001b[1;32m     14\u001b[0m     \u001b[0;32mif\u001b[0m \u001b[0mboard\u001b[0m\u001b[0;34m.\u001b[0m\u001b[0mturn\u001b[0m \u001b[0;34m==\u001b[0m \u001b[0mchess\u001b[0m\u001b[0;34m.\u001b[0m\u001b[0mWHITE\u001b[0m\u001b[0;34m:\u001b[0m\u001b[0;34m\u001b[0m\u001b[0;34m\u001b[0m\u001b[0m\n\u001b[0;32m---> 15\u001b[0;31m         \u001b[0muci_move\u001b[0m \u001b[0;34m=\u001b[0m \u001b[0minput\u001b[0m\u001b[0;34m(\u001b[0m\u001b[0;34m\"Enter your move for white (e.g. e2e4): \"\u001b[0m\u001b[0;34m)\u001b[0m\u001b[0;34m\u001b[0m\u001b[0;34m\u001b[0m\u001b[0m\n\u001b[0m\u001b[1;32m     16\u001b[0m         \u001b[0mmove\u001b[0m \u001b[0;34m=\u001b[0m \u001b[0mchess\u001b[0m\u001b[0;34m.\u001b[0m\u001b[0mMove\u001b[0m\u001b[0;34m.\u001b[0m\u001b[0mfrom_uci\u001b[0m\u001b[0;34m(\u001b[0m\u001b[0muci_move\u001b[0m\u001b[0;34m)\u001b[0m\u001b[0;34m\u001b[0m\u001b[0;34m\u001b[0m\u001b[0m\n\u001b[1;32m     17\u001b[0m     \u001b[0;32melse\u001b[0m\u001b[0;34m:\u001b[0m\u001b[0;34m\u001b[0m\u001b[0;34m\u001b[0m\u001b[0m\n",
            "\u001b[0;32m/usr/local/lib/python3.10/dist-packages/ipykernel/kernelbase.py\u001b[0m in \u001b[0;36mraw_input\u001b[0;34m(self, prompt)\u001b[0m\n\u001b[1;32m    849\u001b[0m                 \u001b[0;34m\"raw_input was called, but this frontend does not support input requests.\"\u001b[0m\u001b[0;34m\u001b[0m\u001b[0;34m\u001b[0m\u001b[0m\n\u001b[1;32m    850\u001b[0m             )\n\u001b[0;32m--> 851\u001b[0;31m         return self._input_request(str(prompt),\n\u001b[0m\u001b[1;32m    852\u001b[0m             \u001b[0mself\u001b[0m\u001b[0;34m.\u001b[0m\u001b[0m_parent_ident\u001b[0m\u001b[0;34m,\u001b[0m\u001b[0;34m\u001b[0m\u001b[0;34m\u001b[0m\u001b[0m\n\u001b[1;32m    853\u001b[0m             \u001b[0mself\u001b[0m\u001b[0;34m.\u001b[0m\u001b[0m_parent_header\u001b[0m\u001b[0;34m,\u001b[0m\u001b[0;34m\u001b[0m\u001b[0;34m\u001b[0m\u001b[0m\n",
            "\u001b[0;32m/usr/local/lib/python3.10/dist-packages/ipykernel/kernelbase.py\u001b[0m in \u001b[0;36m_input_request\u001b[0;34m(self, prompt, ident, parent, password)\u001b[0m\n\u001b[1;32m    893\u001b[0m             \u001b[0;32mexcept\u001b[0m \u001b[0mKeyboardInterrupt\u001b[0m\u001b[0;34m:\u001b[0m\u001b[0;34m\u001b[0m\u001b[0;34m\u001b[0m\u001b[0m\n\u001b[1;32m    894\u001b[0m                 \u001b[0;31m# re-raise KeyboardInterrupt, to truncate traceback\u001b[0m\u001b[0;34m\u001b[0m\u001b[0;34m\u001b[0m\u001b[0m\n\u001b[0;32m--> 895\u001b[0;31m                 \u001b[0;32mraise\u001b[0m \u001b[0mKeyboardInterrupt\u001b[0m\u001b[0;34m(\u001b[0m\u001b[0;34m\"Interrupted by user\"\u001b[0m\u001b[0;34m)\u001b[0m \u001b[0;32mfrom\u001b[0m \u001b[0;32mNone\u001b[0m\u001b[0;34m\u001b[0m\u001b[0;34m\u001b[0m\u001b[0m\n\u001b[0m\u001b[1;32m    896\u001b[0m             \u001b[0;32mexcept\u001b[0m \u001b[0mException\u001b[0m \u001b[0;32mas\u001b[0m \u001b[0me\u001b[0m\u001b[0;34m:\u001b[0m\u001b[0;34m\u001b[0m\u001b[0;34m\u001b[0m\u001b[0m\n\u001b[1;32m    897\u001b[0m                 \u001b[0mself\u001b[0m\u001b[0;34m.\u001b[0m\u001b[0mlog\u001b[0m\u001b[0;34m.\u001b[0m\u001b[0mwarning\u001b[0m\u001b[0;34m(\u001b[0m\u001b[0;34m\"Invalid Message:\"\u001b[0m\u001b[0;34m,\u001b[0m \u001b[0mexc_info\u001b[0m\u001b[0;34m=\u001b[0m\u001b[0;32mTrue\u001b[0m\u001b[0;34m)\u001b[0m\u001b[0;34m\u001b[0m\u001b[0;34m\u001b[0m\u001b[0m\n",
            "\u001b[0;31mKeyboardInterrupt\u001b[0m: Interrupted by user"
          ]
        }
      ]
    },
    {
      "cell_type": "markdown",
      "source": [
        "<font color=\"red \" size=\"6\"> **Bard (by Google)**"
      ],
      "metadata": {
        "id": "0cALi0bA-EaU"
      }
    },
    {
      "cell_type": "code",
      "source": [
        "import chess\n",
        "\n",
        "# Initialize the chess board\n",
        "board = chess.Board()\n",
        "\n",
        "# Create a function to get the user's move\n",
        "def get_user_move():\n",
        "    move = input(\"Enter your move: \")\n",
        "    move = move.strip()\n",
        "    if not move.startswith(\"a\") or not move.endswith(\"h\"):\n",
        "        print(\"Invalid move. Please enter a move in the format a1a2.\")\n",
        "        return None\n",
        "    from_square = move[0:2]\n",
        "    to_square = move[2:4]\n",
        "    return chess.Move(from_square, to_square)\n",
        "\n",
        "# Create a function to get the computer's move\n",
        "def get_computer_move():\n",
        "    best_move = None\n",
        "    best_score = -100000\n",
        "    for move in board.legal_moves:\n",
        "        board.push(move)\n",
        "        score = chess.evaluate(board)\n",
        "        board.pop()\n",
        "        if score > best_score:\n",
        "            best_move = move\n",
        "            best_score = score\n",
        "    return best_move\n",
        "\n",
        "# Start the game loop\n",
        "while True:\n",
        "    # Get the user's move\n",
        "    user_move = get_user_move()\n",
        "    if not user_move:\n",
        "        continue\n",
        "\n",
        "    # Make the user's move\n",
        "    board.push(user_move)\n",
        "\n",
        "    # Get the computer's move\n",
        "    computer_move = get_computer_move()\n",
        "\n",
        "    # Make the computer's move\n",
        "    board.push(computer_move)\n",
        "\n",
        "    # Print the board\n",
        "    print(board)\n",
        "\n",
        "    # Check if the game is over\n",
        "    if board.is_checkmate():\n",
        "        if board.turn:\n",
        "            print(\"White wins!\")\n",
        "        else:\n",
        "            print(\"Black wins!\")\n",
        "        break\n",
        "    elif board.is_stalemate():\n",
        "        print(\"Stalemate!\")\n",
        "        break\n"
      ],
      "metadata": {
        "colab": {
          "base_uri": "https://localhost:8080/",
          "height": 578
        },
        "id": "mIoDB8osMMDi",
        "outputId": "2321a273-37ec-4a1a-a626-fd00796356a2"
      },
      "execution_count": 43,
      "outputs": [
        {
          "output_type": "stream",
          "name": "stdout",
          "text": [
            "Enter your move: e2e4\n",
            "Invalid move. Please enter a move in the format a1a2.\n",
            "Enter your move: a1a2\n",
            "Invalid move. Please enter a move in the format a1a2.\n",
            "Enter your move: c1c3\n",
            "Invalid move. Please enter a move in the format a1a2.\n",
            "Enter your move: e2e4\n",
            "Invalid move. Please enter a move in the format a1a2.\n",
            "Enter your move: a1a3\n",
            "Invalid move. Please enter a move in the format a1a2.\n"
          ]
        },
        {
          "output_type": "error",
          "ename": "KeyboardInterrupt",
          "evalue": "ignored",
          "traceback": [
            "\u001b[0;31m---------------------------------------------------------------------------\u001b[0m",
            "\u001b[0;31mKeyboardInterrupt\u001b[0m                         Traceback (most recent call last)",
            "\u001b[0;32m<ipython-input-43-bc8e5592e93b>\u001b[0m in \u001b[0;36m<cell line: 31>\u001b[0;34m()\u001b[0m\n\u001b[1;32m     31\u001b[0m \u001b[0;32mwhile\u001b[0m \u001b[0;32mTrue\u001b[0m\u001b[0;34m:\u001b[0m\u001b[0;34m\u001b[0m\u001b[0;34m\u001b[0m\u001b[0m\n\u001b[1;32m     32\u001b[0m     \u001b[0;31m# Get the user's move\u001b[0m\u001b[0;34m\u001b[0m\u001b[0;34m\u001b[0m\u001b[0m\n\u001b[0;32m---> 33\u001b[0;31m     \u001b[0muser_move\u001b[0m \u001b[0;34m=\u001b[0m \u001b[0mget_user_move\u001b[0m\u001b[0;34m(\u001b[0m\u001b[0;34m)\u001b[0m\u001b[0;34m\u001b[0m\u001b[0;34m\u001b[0m\u001b[0m\n\u001b[0m\u001b[1;32m     34\u001b[0m     \u001b[0;32mif\u001b[0m \u001b[0;32mnot\u001b[0m \u001b[0muser_move\u001b[0m\u001b[0;34m:\u001b[0m\u001b[0;34m\u001b[0m\u001b[0;34m\u001b[0m\u001b[0m\n\u001b[1;32m     35\u001b[0m         \u001b[0;32mcontinue\u001b[0m\u001b[0;34m\u001b[0m\u001b[0;34m\u001b[0m\u001b[0m\n",
            "\u001b[0;32m<ipython-input-43-bc8e5592e93b>\u001b[0m in \u001b[0;36mget_user_move\u001b[0;34m()\u001b[0m\n\u001b[1;32m      6\u001b[0m \u001b[0;31m# Create a function to get the user's move\u001b[0m\u001b[0;34m\u001b[0m\u001b[0;34m\u001b[0m\u001b[0m\n\u001b[1;32m      7\u001b[0m \u001b[0;32mdef\u001b[0m \u001b[0mget_user_move\u001b[0m\u001b[0;34m(\u001b[0m\u001b[0;34m)\u001b[0m\u001b[0;34m:\u001b[0m\u001b[0;34m\u001b[0m\u001b[0;34m\u001b[0m\u001b[0m\n\u001b[0;32m----> 8\u001b[0;31m     \u001b[0mmove\u001b[0m \u001b[0;34m=\u001b[0m \u001b[0minput\u001b[0m\u001b[0;34m(\u001b[0m\u001b[0;34m\"Enter your move: \"\u001b[0m\u001b[0;34m)\u001b[0m\u001b[0;34m\u001b[0m\u001b[0;34m\u001b[0m\u001b[0m\n\u001b[0m\u001b[1;32m      9\u001b[0m     \u001b[0mmove\u001b[0m \u001b[0;34m=\u001b[0m \u001b[0mmove\u001b[0m\u001b[0;34m.\u001b[0m\u001b[0mstrip\u001b[0m\u001b[0;34m(\u001b[0m\u001b[0;34m)\u001b[0m\u001b[0;34m\u001b[0m\u001b[0;34m\u001b[0m\u001b[0m\n\u001b[1;32m     10\u001b[0m     \u001b[0;32mif\u001b[0m \u001b[0;32mnot\u001b[0m \u001b[0mmove\u001b[0m\u001b[0;34m.\u001b[0m\u001b[0mstartswith\u001b[0m\u001b[0;34m(\u001b[0m\u001b[0;34m\"a\"\u001b[0m\u001b[0;34m)\u001b[0m \u001b[0;32mor\u001b[0m \u001b[0;32mnot\u001b[0m \u001b[0mmove\u001b[0m\u001b[0;34m.\u001b[0m\u001b[0mendswith\u001b[0m\u001b[0;34m(\u001b[0m\u001b[0;34m\"h\"\u001b[0m\u001b[0;34m)\u001b[0m\u001b[0;34m:\u001b[0m\u001b[0;34m\u001b[0m\u001b[0;34m\u001b[0m\u001b[0m\n",
            "\u001b[0;32m/usr/local/lib/python3.10/dist-packages/ipykernel/kernelbase.py\u001b[0m in \u001b[0;36mraw_input\u001b[0;34m(self, prompt)\u001b[0m\n\u001b[1;32m    849\u001b[0m                 \u001b[0;34m\"raw_input was called, but this frontend does not support input requests.\"\u001b[0m\u001b[0;34m\u001b[0m\u001b[0;34m\u001b[0m\u001b[0m\n\u001b[1;32m    850\u001b[0m             )\n\u001b[0;32m--> 851\u001b[0;31m         return self._input_request(str(prompt),\n\u001b[0m\u001b[1;32m    852\u001b[0m             \u001b[0mself\u001b[0m\u001b[0;34m.\u001b[0m\u001b[0m_parent_ident\u001b[0m\u001b[0;34m,\u001b[0m\u001b[0;34m\u001b[0m\u001b[0;34m\u001b[0m\u001b[0m\n\u001b[1;32m    853\u001b[0m             \u001b[0mself\u001b[0m\u001b[0;34m.\u001b[0m\u001b[0m_parent_header\u001b[0m\u001b[0;34m,\u001b[0m\u001b[0;34m\u001b[0m\u001b[0;34m\u001b[0m\u001b[0m\n",
            "\u001b[0;32m/usr/local/lib/python3.10/dist-packages/ipykernel/kernelbase.py\u001b[0m in \u001b[0;36m_input_request\u001b[0;34m(self, prompt, ident, parent, password)\u001b[0m\n\u001b[1;32m    893\u001b[0m             \u001b[0;32mexcept\u001b[0m \u001b[0mKeyboardInterrupt\u001b[0m\u001b[0;34m:\u001b[0m\u001b[0;34m\u001b[0m\u001b[0;34m\u001b[0m\u001b[0m\n\u001b[1;32m    894\u001b[0m                 \u001b[0;31m# re-raise KeyboardInterrupt, to truncate traceback\u001b[0m\u001b[0;34m\u001b[0m\u001b[0;34m\u001b[0m\u001b[0m\n\u001b[0;32m--> 895\u001b[0;31m                 \u001b[0;32mraise\u001b[0m \u001b[0mKeyboardInterrupt\u001b[0m\u001b[0;34m(\u001b[0m\u001b[0;34m\"Interrupted by user\"\u001b[0m\u001b[0;34m)\u001b[0m \u001b[0;32mfrom\u001b[0m \u001b[0;32mNone\u001b[0m\u001b[0;34m\u001b[0m\u001b[0;34m\u001b[0m\u001b[0m\n\u001b[0m\u001b[1;32m    896\u001b[0m             \u001b[0;32mexcept\u001b[0m \u001b[0mException\u001b[0m \u001b[0;32mas\u001b[0m \u001b[0me\u001b[0m\u001b[0;34m:\u001b[0m\u001b[0;34m\u001b[0m\u001b[0;34m\u001b[0m\u001b[0m\n\u001b[1;32m    897\u001b[0m                 \u001b[0mself\u001b[0m\u001b[0;34m.\u001b[0m\u001b[0mlog\u001b[0m\u001b[0;34m.\u001b[0m\u001b[0mwarning\u001b[0m\u001b[0;34m(\u001b[0m\u001b[0;34m\"Invalid Message:\"\u001b[0m\u001b[0;34m,\u001b[0m \u001b[0mexc_info\u001b[0m\u001b[0;34m=\u001b[0m\u001b[0;32mTrue\u001b[0m\u001b[0;34m)\u001b[0m\u001b[0;34m\u001b[0m\u001b[0;34m\u001b[0m\u001b[0m\n",
            "\u001b[0;31mKeyboardInterrupt\u001b[0m: Interrupted by user"
          ]
        }
      ]
    },
    {
      "cell_type": "markdown",
      "source": [
        "❌ Failed"
      ],
      "metadata": {
        "id": "GsC2_OzTM4N2"
      }
    },
    {
      "cell_type": "markdown",
      "source": [
        "<font color=\"red \" size=\"6\"> **CodeLlama (by MetaAI)**"
      ],
      "metadata": {
        "id": "7C4YwmzK-E8n"
      }
    },
    {
      "cell_type": "code",
      "source": [
        "import numpy as np\n",
        "\n",
        "def printBoard():\n",
        "    # Print the board\n",
        "    print(\"  1 | 2 | 3\")\n",
        "    print(\"  ---------\")\n",
        "    print(\"  4 | 5 | 6\")\n",
        "    print(\"  ---------\")\n",
        "    print(\"  7 | 8 | 9\\n\")\n",
        "\n",
        "def getMove():\n",
        "    # Get the user's move\n",
        "    move = input(\"Enter your move (row column): \")\n",
        "    row = int(move[0])\n",
        "    col = int(move[1])\n",
        "    return row, col\n",
        "\n",
        "def checkValidity(board, row, col):\n",
        "    # Check if the move is valid\n",
        "    if board[row][col] == \" \":\n",
        "        return True\n",
        "    else:\n",
        "        return False\n",
        "\n",
        "def makeMove(board, symbol, row, col):\n",
        "    # Make the move on the board\n",
        "    board[row][col] = symbol\n",
        "\n",
        "def checkWin(board, symbol):\n",
        "    # Check if the game is over\n",
        "    if symbol == \"X\":\n",
        "        winCondition = [\"XXX\", \"XX \", \" X\"]\n",
        "    elif symbol == \"O\":\n",
        "        winCondition = [\" OOO\", \" OO \", \" O \"]\n",
        "    else:\n",
        "        raise ValueError(\"Invalid symbol\")\n",
        "\n",
        "    for i in range(len(winCondition)):\n",
        "        if winCondition[i] in str(board):\n",
        "            return True\n",
        "    return False\n",
        "\n",
        "def playGame():\n",
        "    # Play a game of tic-tac-toe\n",
        "    board = np.array([[\" \", \" \", \" \"],\n",
        "                      [\" \", \" \", \" \"],\n",
        "                      [\" \", \" \", \" \"]])\n",
        "    turn = \"X\"\n",
        "    while True:\n",
        "        printBoard()\n",
        "        row, col = getMove()\n",
        "        if checkValidity(board, row, col):\n",
        "            makeMove(board, turn, row, col)\n",
        "            if checkWin(board, turn):\n",
        "                print(\"\\nCongratulations, you won!\\n\")\n",
        "                break\n",
        "            else:\n",
        "                turn = \"O\" if turn == \"X\" else \"X\"\n",
        "        else:\n",
        "            print(\"That is not a valid move.\")\n",
        "\n",
        "playGame()\n"
      ],
      "metadata": {
        "colab": {
          "base_uri": "https://localhost:8080/",
          "height": 613
        },
        "id": "3gOvB2xaLElL",
        "outputId": "0849cbb1-246f-465a-d32e-cd6714ce04e7"
      },
      "execution_count": 50,
      "outputs": [
        {
          "name": "stdout",
          "output_type": "stream",
          "text": [
            "  1 | 2 | 3\n",
            "  ---------\n",
            "  4 | 5 | 6\n",
            "  ---------\n",
            "  7 | 8 | 9\n",
            "\n",
            "Enter your move (row column): 11\n",
            "  1 | 2 | 3\n",
            "  ---------\n",
            "  4 | 5 | 6\n",
            "  ---------\n",
            "  7 | 8 | 9\n",
            "\n",
            "Enter your move (row column): 23\n"
          ]
        },
        {
          "output_type": "error",
          "ename": "IndexError",
          "evalue": "ignored",
          "traceback": [
            "\u001b[0;31m---------------------------------------------------------------------------\u001b[0m",
            "\u001b[0;31mIndexError\u001b[0m                                Traceback (most recent call last)",
            "\u001b[0;32m<ipython-input-50-ab3cbdabbdac>\u001b[0m in \u001b[0;36m<cell line: 62>\u001b[0;34m()\u001b[0m\n\u001b[1;32m     60\u001b[0m             \u001b[0mprint\u001b[0m\u001b[0;34m(\u001b[0m\u001b[0;34m\"That is not a valid move.\"\u001b[0m\u001b[0;34m)\u001b[0m\u001b[0;34m\u001b[0m\u001b[0;34m\u001b[0m\u001b[0m\n\u001b[1;32m     61\u001b[0m \u001b[0;34m\u001b[0m\u001b[0m\n\u001b[0;32m---> 62\u001b[0;31m \u001b[0mplayGame\u001b[0m\u001b[0;34m(\u001b[0m\u001b[0;34m)\u001b[0m\u001b[0;34m\u001b[0m\u001b[0;34m\u001b[0m\u001b[0m\n\u001b[0m",
            "\u001b[0;32m<ipython-input-50-ab3cbdabbdac>\u001b[0m in \u001b[0;36mplayGame\u001b[0;34m()\u001b[0m\n\u001b[1;32m     50\u001b[0m         \u001b[0mprintBoard\u001b[0m\u001b[0;34m(\u001b[0m\u001b[0;34m)\u001b[0m\u001b[0;34m\u001b[0m\u001b[0;34m\u001b[0m\u001b[0m\n\u001b[1;32m     51\u001b[0m         \u001b[0mrow\u001b[0m\u001b[0;34m,\u001b[0m \u001b[0mcol\u001b[0m \u001b[0;34m=\u001b[0m \u001b[0mgetMove\u001b[0m\u001b[0;34m(\u001b[0m\u001b[0;34m)\u001b[0m\u001b[0;34m\u001b[0m\u001b[0;34m\u001b[0m\u001b[0m\n\u001b[0;32m---> 52\u001b[0;31m         \u001b[0;32mif\u001b[0m \u001b[0mcheckValidity\u001b[0m\u001b[0;34m(\u001b[0m\u001b[0mboard\u001b[0m\u001b[0;34m,\u001b[0m \u001b[0mrow\u001b[0m\u001b[0;34m,\u001b[0m \u001b[0mcol\u001b[0m\u001b[0;34m)\u001b[0m\u001b[0;34m:\u001b[0m\u001b[0;34m\u001b[0m\u001b[0;34m\u001b[0m\u001b[0m\n\u001b[0m\u001b[1;32m     53\u001b[0m             \u001b[0mmakeMove\u001b[0m\u001b[0;34m(\u001b[0m\u001b[0mboard\u001b[0m\u001b[0;34m,\u001b[0m \u001b[0mturn\u001b[0m\u001b[0;34m,\u001b[0m \u001b[0mrow\u001b[0m\u001b[0;34m,\u001b[0m \u001b[0mcol\u001b[0m\u001b[0;34m)\u001b[0m\u001b[0;34m\u001b[0m\u001b[0;34m\u001b[0m\u001b[0m\n\u001b[1;32m     54\u001b[0m             \u001b[0;32mif\u001b[0m \u001b[0mcheckWin\u001b[0m\u001b[0;34m(\u001b[0m\u001b[0mboard\u001b[0m\u001b[0;34m,\u001b[0m \u001b[0mturn\u001b[0m\u001b[0;34m)\u001b[0m\u001b[0;34m:\u001b[0m\u001b[0;34m\u001b[0m\u001b[0;34m\u001b[0m\u001b[0m\n",
            "\u001b[0;32m<ipython-input-50-ab3cbdabbdac>\u001b[0m in \u001b[0;36mcheckValidity\u001b[0;34m(board, row, col)\u001b[0m\n\u001b[1;32m     18\u001b[0m \u001b[0;32mdef\u001b[0m \u001b[0mcheckValidity\u001b[0m\u001b[0;34m(\u001b[0m\u001b[0mboard\u001b[0m\u001b[0;34m,\u001b[0m \u001b[0mrow\u001b[0m\u001b[0;34m,\u001b[0m \u001b[0mcol\u001b[0m\u001b[0;34m)\u001b[0m\u001b[0;34m:\u001b[0m\u001b[0;34m\u001b[0m\u001b[0;34m\u001b[0m\u001b[0m\n\u001b[1;32m     19\u001b[0m     \u001b[0;31m# Check if the move is valid\u001b[0m\u001b[0;34m\u001b[0m\u001b[0;34m\u001b[0m\u001b[0m\n\u001b[0;32m---> 20\u001b[0;31m     \u001b[0;32mif\u001b[0m \u001b[0mboard\u001b[0m\u001b[0;34m[\u001b[0m\u001b[0mrow\u001b[0m\u001b[0;34m]\u001b[0m\u001b[0;34m[\u001b[0m\u001b[0mcol\u001b[0m\u001b[0;34m]\u001b[0m \u001b[0;34m==\u001b[0m \u001b[0;34m\" \"\u001b[0m\u001b[0;34m:\u001b[0m\u001b[0;34m\u001b[0m\u001b[0;34m\u001b[0m\u001b[0m\n\u001b[0m\u001b[1;32m     21\u001b[0m         \u001b[0;32mreturn\u001b[0m \u001b[0;32mTrue\u001b[0m\u001b[0;34m\u001b[0m\u001b[0;34m\u001b[0m\u001b[0m\n\u001b[1;32m     22\u001b[0m     \u001b[0;32melse\u001b[0m\u001b[0;34m:\u001b[0m\u001b[0;34m\u001b[0m\u001b[0;34m\u001b[0m\u001b[0m\n",
            "\u001b[0;31mIndexError\u001b[0m: index 3 is out of bounds for axis 0 with size 3"
          ]
        }
      ]
    },
    {
      "cell_type": "markdown",
      "source": [
        "❌ Failed"
      ],
      "metadata": {
        "id": "SFo7z7AIOkHn"
      }
    },
    {
      "cell_type": "markdown",
      "source": [
        "<font color=\"Green\" size=\"8\"> Comparion scoring by Alec\n",
        "\n",
        "|        | ChatGPT3.5 | GPT4 | Claude | Bard | CodeLlama |\n",
        "|--------|-----|------------|------------|------------|------------|\n",
        "| Prime  | 9  | 9   |  9 |  9  |  9 |\n",
        "| Factorial    | 8  | 9   | 8 | 7 | 8|\n",
        "| Christmas tree  | 10  | 10     | 8 | 7 | 3|\n",
        "| Array  | 6  | 10    | ❌  | 10  | 10|\n",
        "| Chess | 8  | 10   |  9 | ❌ | ❌ |"
      ],
      "metadata": {
        "id": "0YfeiEPxOxCO"
      }
    }
  ]
}