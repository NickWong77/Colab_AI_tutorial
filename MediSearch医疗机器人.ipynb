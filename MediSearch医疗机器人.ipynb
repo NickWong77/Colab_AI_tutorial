{
  "nbformat": 4,
  "nbformat_minor": 0,
  "metadata": {
    "colab": {
      "provenance": [],
      "include_colab_link": true
    },
    "kernelspec": {
      "name": "python3",
      "display_name": "Python 3"
    },
    "language_info": {
      "name": "python"
    }
  },
  "cells": [
    {
      "cell_type": "markdown",
      "metadata": {
        "id": "view-in-github",
        "colab_type": "text"
      },
      "source": [
        "<a href=\"https://colab.research.google.com/github/alecinvan/Colab_AI_tutorial/blob/main/MediSearch%E5%8C%BB%E7%96%97%E6%9C%BA%E5%99%A8%E4%BA%BA.ipynb\" target=\"_parent\"><img src=\"https://colab.research.google.com/assets/colab-badge.svg\" alt=\"Open In Colab\"/></a>"
      ]
    },
    {
      "cell_type": "code",
      "execution_count": null,
      "metadata": {
        "colab": {
          "base_uri": "https://localhost:8080/"
        },
        "id": "pvR75DCHItja",
        "outputId": "a2ac4516-30b5-44cb-fbdb-e6b326b9b98d"
      },
      "outputs": [
        {
          "output_type": "stream",
          "name": "stdout",
          "text": [
            "Collecting medisearch_client\n",
            "  Downloading medisearch_client-0.2.0-py3-none-any.whl (4.6 kB)\n",
            "Requirement already satisfied: websocket-client in /usr/local/lib/python3.10/dist-packages (from medisearch_client) (1.6.2)\n",
            "Requirement already satisfied: pyasn1 in /usr/local/lib/python3.10/dist-packages (from medisearch_client) (0.5.0)\n",
            "Requirement already satisfied: pyopenssl in /usr/local/lib/python3.10/dist-packages (from medisearch_client) (23.2.0)\n",
            "Collecting ndg-httpsclient (from medisearch_client)\n",
            "  Downloading ndg_httpsclient-0.5.1-py3-none-any.whl (34 kB)\n",
            "Requirement already satisfied: cryptography!=40.0.0,!=40.0.1,<42,>=38.0.0 in /usr/local/lib/python3.10/dist-packages (from pyopenssl->medisearch_client) (41.0.3)\n",
            "Requirement already satisfied: cffi>=1.12 in /usr/local/lib/python3.10/dist-packages (from cryptography!=40.0.0,!=40.0.1,<42,>=38.0.0->pyopenssl->medisearch_client) (1.15.1)\n",
            "Requirement already satisfied: pycparser in /usr/local/lib/python3.10/dist-packages (from cffi>=1.12->cryptography!=40.0.0,!=40.0.1,<42,>=38.0.0->pyopenssl->medisearch_client) (2.21)\n",
            "Installing collected packages: ndg-httpsclient, medisearch_client\n",
            "Successfully installed medisearch_client-0.2.0 ndg-httpsclient-0.5.1\n"
          ]
        }
      ],
      "source": [
        "!pip install medisearch_client\n",
        "\n",
        "import json\n",
        "import uuid\n",
        "\n",
        "from medisearch_client import MediSearchClient"
      ]
    },
    {
      "cell_type": "code",
      "source": [
        "api_key = \"gx4XXBhE7Zrga682gmEm\"\n",
        "conversation_id = str(uuid.uuid4())\n",
        "client = MediSearchClient(api_key=api_key)"
      ],
      "metadata": {
        "id": "ir59hGJdJdtQ"
      },
      "execution_count": null,
      "outputs": []
    },
    {
      "cell_type": "code",
      "source": [
        "query = \"Can depression be treated ?\"\n",
        "responses = client.send_user_message(conversation=[query],\n",
        "                                     conversation_id=conversation_id,\n",
        "                                     language=\"English\",\n",
        "                                     should_stream_response=False)\n",
        "\n",
        "for response in responses:\n",
        "  if response[\"event\"] == \"llm_response\":\n",
        "    text_response = response[\"text\"]\n",
        "    print(text_response)"
      ],
      "metadata": {
        "colab": {
          "base_uri": "https://localhost:8080/"
        },
        "id": "F13KEifXJvUY",
        "outputId": "22ddfcb0-d64d-4971-ed22-a2c9df719648"
      },
      "execution_count": null,
      "outputs": [
        {
          "output_type": "stream",
          "name": "stdout",
          "text": [
            "Yes, depression can be treated, although it cannot be completely cured. Treatment options include therapy with a trained mental health professional, medications such as antidepressants, and alternative treatments like relaxation techniques and meditation. These treatments can improve symptoms and minimize their impact on daily life. However, depression often happens in episodes, so it's possible to have another episode later in life [1, 2].\n"
          ]
        }
      ]
    },
    {
      "cell_type": "code",
      "source": [
        "#follow_up_query\n",
        "\n",
        "follow_up_query = \"What are the symptoms?\"\n",
        "responses = client.send_user_message(conversation=[query,\n",
        "                                                   text_response,\n",
        "                                                   follow_up_query],\n",
        "                                     conversation_id=conversation_id,\n",
        "                                     language=\"English\",\n",
        "                                     should_stream_response=False)\n",
        "\n",
        "responses"
      ],
      "metadata": {
        "colab": {
          "base_uri": "https://localhost:8080/"
        },
        "id": "0FR9Gi_nLUzF",
        "outputId": "f56fbf32-485c-412c-ef10-65c3a6abe01e"
      },
      "execution_count": null,
      "outputs": [
        {
          "output_type": "execute_result",
          "data": {
            "text/plain": [
              "[{'event': 'llm_response',\n",
              "  'id': '5af3c39c-2d65-4825-9eda-49c47156cbf4',\n",
              "  'text': 'Depression symptoms can vary among different individuals and age groups. Common symptoms include feeling sad, anxious, or \"empty\", feeling hopeless or worthless, loss of interest in hobbies, decreased energy, difficulty concentrating, changes in sleep patterns, and appetite or weight changes. In severe cases, individuals may have thoughts of death or suicide. Symptoms can be different in males, females, and children. For example, males may experience anger, aggressiveness, or irritability, while females may experience irritability and changes in sleep patterns. Children may experience irritability, anger, or rapid shifts in mood [1].'},\n",
              " {'event': 'articles',\n",
              "  'id': '5af3c39c-2d65-4825-9eda-49c47156cbf4',\n",
              "  'articles': [{'title': 'Depression: What It Is, Symptoms, Causes, Treatment, and More',\n",
              "    'url': 'https://www.healthline.com/health/depression',\n",
              "    'authors': ['Valencia Higuera'],\n",
              "    'year': '2014'}]}]"
            ]
          },
          "metadata": {},
          "execution_count": 4
        }
      ]
    },
    {
      "cell_type": "code",
      "source": [
        "!pip install gradio -q\n"
      ],
      "metadata": {
        "id": "BhKp6dv6LVzD",
        "outputId": "29c7e67c-b094-4772-b2bb-a0c161716bf4",
        "colab": {
          "base_uri": "https://localhost:8080/"
        }
      },
      "execution_count": null,
      "outputs": [
        {
          "output_type": "stream",
          "name": "stdout",
          "text": [
            "\u001b[2K     \u001b[90m━━━━━━━━━━━━━━━━━━━━━━━━━━━━━━━━━━━━━━━━\u001b[0m \u001b[32m20.1/20.1 MB\u001b[0m \u001b[31m55.3 MB/s\u001b[0m eta \u001b[36m0:00:00\u001b[0m\n",
            "\u001b[2K     \u001b[90m━━━━━━━━━━━━━━━━━━━━━━━━━━━━━━━━━━━━━━━━\u001b[0m \u001b[32m66.2/66.2 kB\u001b[0m \u001b[31m5.7 MB/s\u001b[0m eta \u001b[36m0:00:00\u001b[0m\n",
            "\u001b[?25h  Preparing metadata (setup.py) ... \u001b[?25l\u001b[?25hdone\n",
            "\u001b[2K     \u001b[90m━━━━━━━━━━━━━━━━━━━━━━━━━━━━━━━━━━━━━━\u001b[0m \u001b[32m298.2/298.2 kB\u001b[0m \u001b[31m29.2 MB/s\u001b[0m eta \u001b[36m0:00:00\u001b[0m\n",
            "\u001b[2K     \u001b[90m━━━━━━━━━━━━━━━━━━━━━━━━━━━━━━━━━━━━━━━━\u001b[0m \u001b[32m75.4/75.4 kB\u001b[0m \u001b[31m9.3 MB/s\u001b[0m eta \u001b[36m0:00:00\u001b[0m\n",
            "\u001b[2K     \u001b[90m━━━━━━━━━━━━━━━━━━━━━━━━━━━━━━━━━━━━━━\u001b[0m \u001b[32m268.8/268.8 kB\u001b[0m \u001b[31m25.4 MB/s\u001b[0m eta \u001b[36m0:00:00\u001b[0m\n",
            "\u001b[2K     \u001b[90m━━━━━━━━━━━━━━━━━━━━━━━━━━━━━━━━━━━━━━\u001b[0m \u001b[32m139.9/139.9 kB\u001b[0m \u001b[31m13.7 MB/s\u001b[0m eta \u001b[36m0:00:00\u001b[0m\n",
            "\u001b[2K     \u001b[90m━━━━━━━━━━━━━━━━━━━━━━━━━━━━━━━━━━━━━━━━\u001b[0m \u001b[32m45.7/45.7 kB\u001b[0m \u001b[31m3.4 MB/s\u001b[0m eta \u001b[36m0:00:00\u001b[0m\n",
            "\u001b[2K     \u001b[90m━━━━━━━━━━━━━━━━━━━━━━━━━━━━━━━━━━━━━━━━\u001b[0m \u001b[32m59.5/59.5 kB\u001b[0m \u001b[31m6.3 MB/s\u001b[0m eta \u001b[36m0:00:00\u001b[0m\n",
            "\u001b[2K     \u001b[90m━━━━━━━━━━━━━━━━━━━━━━━━━━━━━━━━━━━━━━\u001b[0m \u001b[32m129.9/129.9 kB\u001b[0m \u001b[31m15.9 MB/s\u001b[0m eta \u001b[36m0:00:00\u001b[0m\n",
            "\u001b[2K     \u001b[90m━━━━━━━━━━━━━━━━━━━━━━━━━━━━━━━━━━━━━━━━\u001b[0m \u001b[32m58.3/58.3 kB\u001b[0m \u001b[31m5.8 MB/s\u001b[0m eta \u001b[36m0:00:00\u001b[0m\n",
            "\u001b[2K     \u001b[90m━━━━━━━━━━━━━━━━━━━━━━━━━━━━━━━━━━━━━━━━\u001b[0m \u001b[32m67.0/67.0 kB\u001b[0m \u001b[31m6.6 MB/s\u001b[0m eta \u001b[36m0:00:00\u001b[0m\n",
            "\u001b[2K     \u001b[90m━━━━━━━━━━━━━━━━━━━━━━━━━━━━━━━━━━━━━━━━\u001b[0m \u001b[32m74.5/74.5 kB\u001b[0m \u001b[31m5.4 MB/s\u001b[0m eta \u001b[36m0:00:00\u001b[0m\n",
            "\u001b[?25h  Building wheel for ffmpy (setup.py) ... \u001b[?25l\u001b[?25hdone\n"
          ]
        }
      ]
    },
    {
      "cell_type": "code",
      "source": [
        "import json\n",
        "import uuid\n",
        "import gradio as gr\n",
        "from medisearch_client import MediSearchClient\n",
        "\n",
        "def run_medisearch_chatbot(query, follow_up_query):\n",
        "    api_key = \"gx4XXBhE7Zrga682gmEm\"\n",
        "    conversation_id = str(uuid.uuid4())\n",
        "    client = MediSearchClient(api_key=api_key)\n",
        "\n",
        "    responses = client.send_user_message(conversation=[query],\n",
        "                                         conversation_id=conversation_id,\n",
        "                                         language=\"Chinese\",\n",
        "                                         should_stream_response=False)\n",
        "\n",
        "    text_response = \"\"\n",
        "    for response in responses:\n",
        "        if response[\"event\"] == \"llm_response\":\n",
        "            text_response = response[\"text\"]\n",
        "            break\n",
        "\n",
        "    if follow_up_query:\n",
        "        responses = client.send_user_message(conversation=[query, text_response, follow_up_query],\n",
        "                                             conversation_id=conversation_id,\n",
        "                                             language=\"Chinese\",\n",
        "                                             should_stream_response=False)\n",
        "        for response in responses:\n",
        "            if response[\"event\"] == \"llm_response\":\n",
        "                text_response = response[\"text\"]\n",
        "                break\n",
        "\n",
        "    return text_response\n",
        "\n",
        "iface = gr.Interface(fn=run_medisearch_chatbot,\n",
        "                     inputs=[gr.inputs.Textbox(label=\"输入您的问题:\"),\n",
        "                             gr.inputs.Textbox(label=\"输入后续查询（可选）:\")],\n",
        "                     outputs=gr.outputs.Textbox(label=\"回复:\"),\n",
        "                     title=\"<span style='font-style: italic; font-weight: bold; color: darkred;'>Alec作品</span> - MediSearch 医疗聊天机器人\",\n",
        "                     description=\"使用 MediSearch 和 GPT-3.5 提出医疗问题并获得答案。\")\n",
        "\n",
        "iface.launch(share=True, debug=True)\n"
      ],
      "metadata": {
        "id": "Ip_NzcBI1gWl",
        "outputId": "9253b097-6c31-4a31-a80a-a2d71b01af6b",
        "colab": {
          "base_uri": "https://localhost:8080/",
          "height": 853
        }
      },
      "execution_count": null,
      "outputs": [
        {
          "metadata": {
            "tags": null
          },
          "name": "stderr",
          "output_type": "stream",
          "text": [
            "<ipython-input-12-061f25e3e0e1>:35: GradioDeprecationWarning: Usage of gradio.inputs is deprecated, and will not be supported in the future, please import your component from gradio.components\n",
            "  inputs=[gr.inputs.Textbox(label=\"输入您的问题:\"),\n",
            "<ipython-input-12-061f25e3e0e1>:35: GradioDeprecationWarning: `optional` parameter is deprecated, and it has no effect\n",
            "  inputs=[gr.inputs.Textbox(label=\"输入您的问题:\"),\n",
            "<ipython-input-12-061f25e3e0e1>:35: GradioDeprecationWarning: `numeric` parameter is deprecated, and it has no effect\n",
            "  inputs=[gr.inputs.Textbox(label=\"输入您的问题:\"),\n",
            "<ipython-input-12-061f25e3e0e1>:36: GradioDeprecationWarning: Usage of gradio.inputs is deprecated, and will not be supported in the future, please import your component from gradio.components\n",
            "  gr.inputs.Textbox(label=\"输入后续查询（可选）:\")],\n",
            "<ipython-input-12-061f25e3e0e1>:36: GradioDeprecationWarning: `optional` parameter is deprecated, and it has no effect\n",
            "  gr.inputs.Textbox(label=\"输入后续查询（可选）:\")],\n",
            "<ipython-input-12-061f25e3e0e1>:36: GradioDeprecationWarning: `numeric` parameter is deprecated, and it has no effect\n",
            "  gr.inputs.Textbox(label=\"输入后续查询（可选）:\")],\n",
            "<ipython-input-12-061f25e3e0e1>:37: GradioDeprecationWarning: Usage of gradio.outputs is deprecated, and will not be supported in the future, please import your components from gradio.components\n",
            "  outputs=gr.outputs.Textbox(label=\"回复:\"),\n"
          ]
        },
        {
          "metadata": {
            "tags": null
          },
          "name": "stdout",
          "output_type": "stream",
          "text": [
            "Colab notebook detected. This cell will run indefinitely so that you can see errors and logs. To turn off, set debug=False in launch().\n",
            "Running on public URL: https://54fb5f2d4e92336f5b.gradio.live\n",
            "\n",
            "This share link expires in 72 hours. For free permanent hosting and GPU upgrades, run `gradio deploy` from Terminal to deploy to Spaces (https://huggingface.co/spaces)\n"
          ]
        },
        {
          "data": {
            "text/html": [
              "<div><iframe src=\"https://54fb5f2d4e92336f5b.gradio.live\" width=\"100%\" height=\"500\" allow=\"autoplay; camera; microphone; clipboard-read; clipboard-write;\" frameborder=\"0\" allowfullscreen></iframe></div>"
            ],
            "text/plain": [
              "<IPython.core.display.HTML object>"
            ]
          },
          "metadata": {},
          "output_type": "display_data"
        }
      ]
    }
  ]
}